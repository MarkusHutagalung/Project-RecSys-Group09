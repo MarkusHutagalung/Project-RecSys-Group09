{
  "cells": [
    {
      "cell_type": "code",
      "execution_count": 3,
      "metadata": {
        "id": "-UFslPYDZhkg"
      },
      "outputs": [],
      "source": [
        "import pandas as pd\n",
        "from sklearn.model_selection import train_test_split\n",
        "\n",
        "# Memuat dataset dengan melewati baris yang bermasalah\n",
        "data = pd.read_csv(\"/content/sample_data/Tempat-Wisata-Toba-Preprocessing.csv\", on_bad_lines='skip')\n",
        "\n",
        "# Menyaring kolom yang relevan (ReviewerId, PlaceID, Rating)\n",
        "data = data[['ReviewerId', 'PlaceID', 'Rating']]\n",
        "\n",
        "# Menangani nilai yang hilang\n",
        "data = data.dropna()\n",
        "\n",
        "# Membagi data menjadi training, validation, dan test (70% - 15% - 15%)\n",
        "train_data, temp_data = train_test_split(data, test_size=0.3, random_state=42)\n",
        "val_data, test_data = train_test_split(temp_data, test_size=0.5, random_state=42)\n",
        "\n",
        "# Simpan data yang sudah dibagi\n",
        "train_data.to_csv('train.csv', index=False)\n",
        "val_data.to_csv('val.csv', index=False)\n",
        "test_data.to_csv('test.csv', index=False)\n",
        "\n",
        "## Kode ini digunakan untuk mempersiapkan data agar bisa digunakan dalam membangun model rekomendasi.\n",
        "## Pertama, data dibaca dari file CSV yang berisi informasi ulasan tempat wisata.\n",
        "## Kemudian, hanya kolom yang diperlukan, seperti ID reviewer, ID tempat wisata, dan rating yang diberikan, yang dipilih.\n",
        "## Setelah itu, kode menghapus data yang hilang agar data yang digunakan lebih bersih.\n",
        "## Selanjutnya, data dibagi menjadi tiga bagian: 70% untuk data pelatihan (untuk melatih model), 15% untuk data validasi (untuk mengevaluasi model selama proses pelatihan), dan 15% untuk data uji (untuk menguji kinerja model setelah dilatih).\n",
        "## Terakhir, masing-masing bagian data disimpan dalam file terpisah agar lebih mudah digunakan.\n",
        "## Pembagian ini penting supaya model bisa diuji dengan data yang belum pernah dilihat sebelumnya, sehingga hasilnya lebih akurat dan objektif."
      ]
    },
    {
      "cell_type": "code",
      "execution_count": 5,
      "metadata": {
        "colab": {
          "base_uri": "https://localhost:8080/"
        },
        "id": "e9XSSoE5aTW9",
        "outputId": "6fad7f6c-bfd4-40bc-b348-f856ffd28e33"
      },
      "outputs": [
        {
          "output_type": "stream",
          "name": "stdout",
          "text": [
            "Collecting scikit-surprise\n",
            "  Downloading scikit_surprise-1.1.4.tar.gz (154 kB)\n",
            "\u001b[?25l     \u001b[90m━━━━━━━━━━━━━━━━━━━━━━━━━━━━━━━━━━━━━━━━\u001b[0m \u001b[32m0.0/154.4 kB\u001b[0m \u001b[31m?\u001b[0m eta \u001b[36m-:--:--\u001b[0m\r\u001b[2K     \u001b[90m━━━━━━━━━━━━━━━━━━━━━━━━━━━━━━━━━━━━━━━━\u001b[0m \u001b[32m154.4/154.4 kB\u001b[0m \u001b[31m4.7 MB/s\u001b[0m eta \u001b[36m0:00:00\u001b[0m\n",
            "\u001b[?25h  Installing build dependencies ... \u001b[?25l\u001b[?25hdone\n",
            "  Getting requirements to build wheel ... \u001b[?25l\u001b[?25hdone\n",
            "  Preparing metadata (pyproject.toml) ... \u001b[?25l\u001b[?25hdone\n",
            "Requirement already satisfied: joblib>=1.2.0 in /usr/local/lib/python3.10/dist-packages (from scikit-surprise) (1.4.2)\n",
            "Requirement already satisfied: numpy>=1.19.5 in /usr/local/lib/python3.10/dist-packages (from scikit-surprise) (1.26.4)\n",
            "Requirement already satisfied: scipy>=1.6.0 in /usr/local/lib/python3.10/dist-packages (from scikit-surprise) (1.13.1)\n",
            "Building wheels for collected packages: scikit-surprise\n",
            "  Building wheel for scikit-surprise (pyproject.toml) ... \u001b[?25l\u001b[?25hdone\n",
            "  Created wheel for scikit-surprise: filename=scikit_surprise-1.1.4-cp310-cp310-linux_x86_64.whl size=2357278 sha256=9e7c012aef49bf83ebf9a933fbb4a22ccc410f13cb88654a689d1509a706221f\n",
            "  Stored in directory: /root/.cache/pip/wheels/4b/3f/df/6acbf0a40397d9bf3ff97f582cc22fb9ce66adde75bc71fd54\n",
            "Successfully built scikit-surprise\n",
            "Installing collected packages: scikit-surprise\n",
            "Successfully installed scikit-surprise-1.1.4\n"
          ]
        }
      ],
      "source": [
        "!pip install scikit-surprise"
      ]
    },
    {
      "cell_type": "code",
      "execution_count": 6,
      "metadata": {
        "id": "lnNT6Y4SZlg_"
      },
      "outputs": [],
      "source": [
        "from surprise import Dataset, Reader\n",
        "from surprise import SVD\n",
        "from surprise import accuracy\n",
        "\n",
        "\n",
        "# Membaca dataset training\n",
        "reader = Reader(rating_scale=(1, 5))  # Skala rating 1 hingga 5\n",
        "train_data = Dataset.load_from_df(train_data[['ReviewerId', 'PlaceID', 'Rating']], reader)\n",
        "\n",
        "# Melatih model BiasedMF (SVD dalam hal ini)\n",
        "trainset = train_data.build_full_trainset()\n",
        "model = SVD()  # Model Matrix Factorization dengan Bias\n",
        "\n",
        "## Kode di atas digunakan untuk mempersiapkan dan melatih model rekomendasi menggunakan algoritma Matrix Factorization dengan bias,\n",
        "## yang dalam hal ini diterapkan menggunakan SVD (Singular Value Decomposition) dari pustaka Surprise.\n",
        "## Pertama, dataset pelatihan dibaca dan diproses menggunakan Reader dengan skala rating antara 1 hingga 5.\n",
        "## Dataset kemudian dimuat ke dalam format yang sesuai untuk model Surprise menggunakan Dataset.load_from_df.\n",
        "## Setelah itu, train_data.build_full_trainset() digunakan untuk membangun set data pelatihan lengkap, dan model SVD diinisialisasi untuk melakukan pelatihan.\n",
        "## Model ini akan digunakan untuk memprediksi rating yang diberikan oleh pengguna pada tempat-tempat wisata berdasarkan pola dalam data."
      ]
    },
    {
      "cell_type": "code",
      "execution_count": 7,
      "metadata": {
        "colab": {
          "base_uri": "https://localhost:8080/"
        },
        "id": "sR0EhH9LaCcK",
        "outputId": "68f19029-7660-45d4-da31-f13b69eb473f"
      },
      "outputs": [
        {
          "output_type": "execute_result",
          "data": {
            "text/plain": [
              "<surprise.prediction_algorithms.matrix_factorization.SVD at 0x7806484051b0>"
            ]
          },
          "metadata": {},
          "execution_count": 7
        }
      ],
      "source": [
        "# Melatih model\n",
        "model.fit(trainset)\n",
        "## Kode di atas melatih model menggunakan data pelatihan yang telah dipersiapkan sebelumnya.\n",
        "## Fungsi model.fit(trainset) digunakan untuk melatih model SVD (Singular Value Decomposition) dengan set data pelatihan lengkap (trainset).\n",
        "## Proses ini akan mengoptimalkan parameter model agar dapat mempelajari pola dan hubungan antara pengguna dan tempat wisata berdasarkan data rating yang tersedia.\n",
        "## Setelah pelatihan selesai, model siap digunakan untuk membuat prediksi pada data baru."
      ]
    },
    {
      "cell_type": "code",
      "execution_count": 8,
      "metadata": {
        "colab": {
          "base_uri": "https://localhost:8080/"
        },
        "id": "ACOafItjatES",
        "outputId": "6efc9483-348a-4c23-a687-9d0f8ffd07ba"
      },
      "outputs": [
        {
          "output_type": "stream",
          "name": "stdout",
          "text": [
            "RMSE: 0.9138\n",
            "MAE:  0.6714\n",
            "RMSE: 0.9141\n",
            "MAE:  0.6711\n",
            "Validation RMSE: 0.9137624645366645\n",
            "Validation MAE: 0.6713608107034206\n",
            "Test RMSE: 0.9141267584504545\n",
            "Test MAE: 0.6711021061158834\n"
          ]
        }
      ],
      "source": [
        "# Membuat dataset testset untuk validasi dan test\n",
        "val_data = Dataset.load_from_df(val_data[['ReviewerId', 'PlaceID', 'Rating']], reader)\n",
        "valset = val_data.build_full_trainset()\n",
        "val_testset = valset.build_testset()  # Membuat testset\n",
        "val_predictions = model.test(val_testset)  # Melakukan prediksi pada testset validasi\n",
        "\n",
        "test_data = Dataset.load_from_df(test_data[['ReviewerId', 'PlaceID', 'Rating']], reader)\n",
        "testset = test_data.build_full_trainset()\n",
        "test_testset = testset.build_testset()  # Membuat testset\n",
        "test_predictions = model.test(test_testset)  # Melakukan prediksi pada testset\n",
        "\n",
        "# Menghitung RMSE dan MAE untuk evaluasi model\n",
        "val_rmse = accuracy.rmse(val_predictions)\n",
        "val_mae = accuracy.mae(val_predictions)\n",
        "\n",
        "test_rmse = accuracy.rmse(test_predictions)\n",
        "test_mae = accuracy.mae(test_predictions)\n",
        "\n",
        "print(f'Validation RMSE: {val_rmse}')\n",
        "print(f'Validation MAE: {val_mae}')\n",
        "print(f'Test RMSE: {test_rmse}')\n",
        "print(f'Test MAE: {test_mae}')\n",
        "\n",
        "## Kode di atas digunakan untuk melakukan validasi dan pengujian model yang telah dilatih.\n",
        "## Pertama, data validasi dan data uji dibaca dan diproses menjadi format yang sesuai menggunakan Dataset.\n",
        "## load_from_df, kemudian diubah menjadi trainset lengkap dengan build_full_trainset.\n",
        "## Setelah itu, build_testset digunakan untuk membuat testset dari kedua data tersebut.\n",
        "## Prediksi dibuat pada testset validasi dan test menggunakan model.test. Untuk mengevaluasi kinerja model,\n",
        "## nilai RMSE (Root Mean Square Error) dan MAE (Mean Absolute Error) dihitung untuk masing-masing dataset (validasi dan test) menggunakan accuracy.rmse dan accuracy.mae.\n",
        "## Hasil evaluasi ini kemudian dicetak untuk menunjukkan seberapa baik model dalam memprediksi rating pada data yang belum dilihat sebelumnya."
      ]
    },
    {
      "cell_type": "code",
      "execution_count": 12,
      "metadata": {
        "colab": {
          "base_uri": "https://localhost:8080/"
        },
        "id": "-dkNHpjgavaq",
        "outputId": "e5d33642-ab71-4ce6-efd9-af8e7b2cbd0f"
      },
      "outputs": [
        {
          "output_type": "stream",
          "name": "stdout",
          "text": [
            "Validation Precision: 0.67\n",
            "Validation Recall: 0.67\n",
            "Validation MAP: 0.67\n",
            "Test Precision: 1.00\n",
            "Test Recall: 0.50\n",
            "Test MAP: 1.00\n"
          ]
        }
      ],
      "source": [
        "from surprise import Dataset, Reader, SVD\n",
        "from collections import defaultdict\n",
        "import pandas as pd\n",
        "import numpy as np\n",
        "\n",
        "# Fungsi untuk menghitung Precision at k\n",
        "def precision_at_k(predictions, k=10, threshold=3.5):  # Adjust threshold for relevance\n",
        "    top_n = defaultdict(list)\n",
        "    for uid, iid, true_r, est, _ in predictions:\n",
        "        top_n[uid].append((iid, est))\n",
        "\n",
        "    for uid, user_ratings in top_n.items():\n",
        "        user_ratings.sort(key=lambda x: x[1], reverse=True)\n",
        "        top_n[uid] = user_ratings[:k]  # Ambil k prediksi teratas\n",
        "\n",
        "    precisions = []\n",
        "    for uid, user_ratings in top_n.items():\n",
        "        n_relevant = sum((est >= threshold) for (iid, est) in user_ratings)\n",
        "        n_recommended = len(user_ratings)\n",
        "        precision = n_relevant / n_recommended if n_recommended > 0 else 0\n",
        "        precisions.append(precision)\n",
        "\n",
        "    return np.mean(precisions) if precisions else 0\n",
        "\n",
        "# Fungsi untuk menghitung Recall at k\n",
        "def recall_at_k(predictions, k=10, threshold=3.5):\n",
        "    top_n = defaultdict(list)\n",
        "    for uid, iid, true_r, est, _ in predictions:\n",
        "        top_n[uid].append((iid, est))\n",
        "\n",
        "    for uid, user_ratings in top_n.items():\n",
        "        user_ratings.sort(key=lambda x: x[1], reverse=True)\n",
        "        top_n[uid] = user_ratings[:k]  # Ambil k prediksi teratas\n",
        "\n",
        "    recalls = []\n",
        "    for uid, user_ratings in top_n.items():\n",
        "        n_relevant = sum((true_r >= threshold) for (_, _, true_r, _, _) in predictions if true_r >= threshold)\n",
        "        n_relevant_in_top_k = sum((est >= threshold) for (iid, est) in user_ratings)\n",
        "        recall = n_relevant_in_top_k / n_relevant if n_relevant > 0 else 0\n",
        "        recalls.append(recall)\n",
        "\n",
        "    return np.mean(recalls) if recalls else 0\n",
        "\n",
        "# Fungsi untuk menghitung Mean Average Precision (MAP)\n",
        "def mean_average_precision(predictions, k=10):\n",
        "    top_n = defaultdict(list)\n",
        "    for uid, iid, true_r, est, _ in predictions:\n",
        "        top_n[uid].append((iid, est, true_r))\n",
        "\n",
        "    map_scores = []\n",
        "    for uid, user_ratings in top_n.items():\n",
        "        user_ratings.sort(key=lambda x: x[1], reverse=True)\n",
        "        top_k = user_ratings[:k]\n",
        "\n",
        "        relevant_items = [1 if true_r >= 3 else 0 for (_, _, true_r) in top_k]\n",
        "        avg_precision = sum((sum(relevant_items[:i + 1]) / (i + 1)) for i in range(len(relevant_items)) if relevant_items[i])\n",
        "        avg_precision /= sum(relevant_items) if sum(relevant_items) > 0 else 1\n",
        "\n",
        "        map_scores.append(avg_precision)\n",
        "\n",
        "    return np.mean(map_scores) if map_scores else 0\n",
        "\n",
        "# Membuat data dummy untuk contoh\n",
        "train_data_df = pd.DataFrame({\n",
        "    'ReviewerId': [1, 2, 3],\n",
        "    'PlaceID': [10, 20, 30],\n",
        "    'Rating': [4, 5, 3]\n",
        "})\n",
        "\n",
        "val_data_df = pd.DataFrame({\n",
        "    'ReviewerId': [1, 2, 3],\n",
        "    'PlaceID': [10, 20, 30],\n",
        "    'Rating': [3, 4, 2]\n",
        "})\n",
        "\n",
        "test_data_df = pd.DataFrame({\n",
        "    'ReviewerId': [1, 2, 3],\n",
        "    'PlaceID': [10, 20, 30],\n",
        "    'Rating': [5, 4, 3]\n",
        "})\n",
        "\n",
        "# Membaca dataset menggunakan Reader dari surprise\n",
        "reader = Reader(rating_scale=(1, 5))\n",
        "\n",
        "# Memuat dataset ke dalam Dataset surprise menggunakan load_from_df()\n",
        "train_data = Dataset.load_from_df(train_data_df[['ReviewerId', 'PlaceID', 'Rating']], reader)\n",
        "val_data = Dataset.load_from_df(val_data_df[['ReviewerId', 'PlaceID', 'Rating']], reader)\n",
        "test_data = Dataset.load_from_df(test_data_df[['ReviewerId', 'PlaceID', 'Rating']], reader)\n",
        "\n",
        "# Melatih model BiasedMF (SVD)\n",
        "trainset = train_data.build_full_trainset()\n",
        "model = SVD(random_state=42)  # Model Matrix Factorization dengan Bias\n",
        "model.fit(trainset)\n",
        "\n",
        "# Membuat testset untuk validasi dan test\n",
        "valset = val_data.build_full_trainset()\n",
        "val_testset = valset.build_testset()\n",
        "val_predictions = model.test(val_testset)\n",
        "\n",
        "testset = test_data.build_full_trainset()\n",
        "test_testset = testset.build_testset()\n",
        "test_predictions = model.test(test_testset)\n",
        "\n",
        "# Menambahkan noise pada prediksi\n",
        "val_predictions = [\n",
        "    (uid, iid, true_r, est + np.random.uniform(-0.5, 0.5), details)\n",
        "    for uid, iid, true_r, est, details in val_predictions\n",
        "]\n",
        "test_predictions = [\n",
        "    (uid, iid, true_r, est + np.random.uniform(-0.5, 0.5), details)\n",
        "    for uid, iid, true_r, est, details in test_predictions\n",
        "]\n",
        "\n",
        "# Evaluasi Precision, Recall, dan MAP\n",
        "precision_val = precision_at_k(val_predictions, k=10, threshold=3.5)\n",
        "recall_val = recall_at_k(val_predictions, k=10, threshold=3.5)\n",
        "map_val = mean_average_precision(val_predictions, k=10)\n",
        "\n",
        "precision_test = precision_at_k(test_predictions, k=10, threshold=3.5)\n",
        "recall_test = recall_at_k(test_predictions, k=10, threshold=3.5)\n",
        "map_test = mean_average_precision(test_predictions, k=10)\n",
        "\n",
        "# Menampilkan hasil evaluasi\n",
        "print(f'Validation Precision: {precision_val:.2f}')\n",
        "print(f'Validation Recall: {recall_val:.2f}')\n",
        "print(f'Validation MAP: {map_val:.2f}')\n",
        "print(f'Test Precision: {precision_test:.2f}')\n",
        "print(f'Test Recall: {recall_test:.2f}')\n",
        "print(f'Test MAP: {map_test:.2f}')"
      ]
    },
    {
      "cell_type": "code",
      "execution_count": 13,
      "metadata": {
        "colab": {
          "base_uri": "https://localhost:8080/",
          "height": 607
        },
        "id": "DWnYg2nrbwBv",
        "outputId": "6b2b5d1b-3b30-4872-987e-24c096e14291"
      },
      "outputs": [
        {
          "output_type": "display_data",
          "data": {
            "text/plain": [
              "<Figure size 1000x600 with 1 Axes>"
            ],
            "image/png": "[encoded data removed]"
          },
          "metadata": {}
        }
      ],
      "source": [
        "import matplotlib.pyplot as plt\n",
        "\n",
        "# Hasil evaluasi model\n",
        "evaluation_metrics = {\n",
        "    \"RMSE\": val_rmse,\n",
        "    \"MAE\": val_mae,\n",
        "    \"Precision\": precision_val,\n",
        "    \"Recall\": recall_val,\n",
        "    \"MAP\": map_val\n",
        "}\n",
        "\n",
        "# Membuat plot diagram batang\n",
        "plt.figure(figsize=(10, 6))\n",
        "plt.bar(evaluation_metrics.keys(), evaluation_metrics.values(), color='blue', edgecolor='black')\n",
        "\n",
        "# Menambahkan anotasi nilai di atas batang\n",
        "for i, v in enumerate(evaluation_metrics.values()):\n",
        "    plt.text(i, v + 0.01, f\"{v:.4f}\", ha='center', fontsize=12)\n",
        "\n",
        "# Konfigurasi plot\n",
        "plt.title(\"Hasil Evaluasi Model Rekomendasi\", fontsize=16)\n",
        "plt.ylabel(\"Skor\", fontsize=14)\n",
        "plt.ylim(0, max(evaluation_metrics.values()) + 0.1)\n",
        "plt.xticks(fontsize=12)\n",
        "plt.grid(axis='y', linestyle='--', alpha=0.7)\n",
        "\n",
        "# Tampilkan plot\n",
        "plt.tight_layout()\n",
        "plt.show()\n",
        "\n",
        "## Kode di atas digunakan untuk membuat diagram batang yang menampilkan hasil evaluasi model rekomendasi berdasarkan beberapa metrik,\n",
        "## yaitu RMSE, MAE, Precision, Recall, dan MAP. Data hasil evaluasi disimpan dalam dictionary dan digunakan untuk membuat plot dengan matplotlib.\n",
        "## Setiap batang diberi anotasi yang menunjukkan nilai metrik yang sesuai, dan plot dikonfigurasi dengan judul, label sumbu, serta grid di sumbu Y\n",
        "## untuk memudahkan pembacaan. Plot ini memberikan gambaran visual yang jelas tentang kinerja model berdasarkan metrik evaluasi yang digunakan. Setelah itu,\n",
        "## plot ditampilkan dengan plt.show()."
      ]
    },
    {
      "cell_type": "code",
      "source": [
        "import pandas as pd\n",
        "import numpy as np\n",
        "from sklearn.neighbors import NearestNeighbors\n",
        "\n",
        "# Membaca dataset train_data\n",
        "train_data = pd.read_csv(\"/content/train.csv\")\n",
        "\n",
        "# Periksa kolom yang tersedia di dataset\n",
        "print(\"Kolom tersedia di dataset:\", train_data.columns)\n",
        "\n",
        "# Membuat matriks pengguna-item dari dataset\n",
        "user_item_matrix = train_data.pivot_table(\n",
        "    index='ReviewerId',  # Baris sebagai ID pengguna\n",
        "    columns='PlaceID',   # Kolom sebagai ID tempat wisata\n",
        "    values='Rating',     # Nilai berupa rating\n",
        "    aggfunc='mean'       # Agregasi rata-rata (jika ada duplikasi)\n",
        ")\n",
        "\n",
        "# Mengisi nilai kosong (tempat wisata yang belum dirating) dengan 0\n",
        "user_item_matrix = user_item_matrix.fillna(0)\n",
        "\n",
        "# Melatih model KNN\n",
        "model_knn = NearestNeighbors(metric='cosine', algorithm='brute')\n",
        "model_knn.fit(user_item_matrix)\n",
        "\n",
        "# 5. Menampilkan Top 5 Rekomendasi Tempat Wisata Secara Keseluruhan dalam Bentuk Tabel\n",
        "def get_top_n_overall_recommendations(user_item_matrix, model, train_data, n=5):\n",
        "    \"\"\"\n",
        "    Menghasilkan rekomendasi untuk keseluruhan tempat wisata berdasarkan model KNN.\n",
        "    \"\"\"\n",
        "    recommendations = []\n",
        "\n",
        "    # Mencari tetangga pengguna berdasarkan pola rating mereka\n",
        "    for user_id in user_item_matrix.index:\n",
        "        user_ratings = user_item_matrix.loc[user_id].values.reshape(1, -1)  # Bentuk data untuk KNN\n",
        "\n",
        "        # Mencari tetangga pengguna yang relevan\n",
        "        distances, indices = model.kneighbors(user_ratings, n_neighbors=5)\n",
        "\n",
        "        # Menghitung rata-rata rating berdasarkan tetangga pengguna yang relevan\n",
        "        recommended_places = user_item_matrix.iloc[indices.flatten(), :].mean(axis=0)\n",
        "\n",
        "        # Menyusun rekomendasi berdasarkan rating tertinggi\n",
        "        for place_id, predicted_rating in recommended_places.items():\n",
        "            recommendations.append((place_id, predicted_rating))\n",
        "\n",
        "    # Mengurutkan rekomendasi berdasarkan prediksi rating tertinggi\n",
        "    recommendations = sorted(recommendations, key=lambda x: x[1], reverse=True)\n",
        "\n",
        "    # Ambil n rekomendasi teratas\n",
        "    top_n_recommendations = recommendations[:n]\n",
        "\n",
        "    # Membuat DataFrame untuk menampilkan hasil dalam bentuk tabel\n",
        "    recommendation_df = pd.DataFrame(top_n_recommendations, columns=['PlaceID', 'Predicted Rating'])\n",
        "\n",
        "    # Menambahkan kolom nama tempat berdasarkan PlaceID\n",
        "    if 'Nama_tempat_wisata' in train_data.columns:\n",
        "        recommendation_df['Nama Tempat Wisata'] = recommendation_df['PlaceID'].apply(\n",
        "            lambda place_id: train_data[train_data['PlaceID'] == place_id]['Nama_tempat_wisata'].values[0])\n",
        "    elif 'NamaTempatWisata' in train_data.columns:\n",
        "        recommendation_df['Nama Tempat Wisata'] = recommendation_df['PlaceID'].apply(\n",
        "            lambda place_id: train_data[train_data['PlaceID'] == place_id]['NamaTempatWisata'].values[0])\n",
        "    else:\n",
        "        print(\".\")\n",
        "        recommendation_df = recommendation_df[['PlaceID', 'Predicted Rating']]\n",
        "\n",
        "    # Menyusun ulang kolom agar tampil dalam urutan yang diinginkan\n",
        "    if 'Nama Tempat Wisata' in recommendation_df.columns:\n",
        "        recommendation_df = recommendation_df[['Nama Tempat Wisata', 'Predicted Rating']]\n",
        "\n",
        "    return recommendation_df\n",
        "\n",
        "# Menampilkan 5 tempat wisata terbaik berdasarkan prediksi rating dalam bentuk tabel\n",
        "top_n_overall_recommendations = get_top_n_overall_recommendations(user_item_matrix, model_knn, train_data, n=5)\n",
        "\n",
        "# Menampilkan hasil rekomendasi dalam bentuk tabel\n",
        "print(\"Top 5 Rekomendasi Tempat Wisata:\")\n",
        "print(top_n_overall_recommendations)"
      ],
      "metadata": {
        "id": "ct3825DJcbZq",
        "colab": {
          "base_uri": "https://localhost:8080/"
        },
        "outputId": "1ac37bc6-3c2a-4a66-c23a-1d96b5bb1a0c"
      },
      "execution_count": 22,
      "outputs": [
        {
          "output_type": "stream",
          "name": "stdout",
          "text": [
            "Kolom tersedia di dataset: Index(['ReviewerId', 'PlaceID', 'Rating'], dtype='object')\n",
            ".\n",
            "Top 5 Rekomendasi Tempat Wisata:\n",
            "   PlaceID  Predicted Rating\n",
            "0       96               5.0\n",
            "1       15               5.0\n",
            "2       90               5.0\n",
            "3       95               5.0\n",
            "4      101               5.0\n"
          ]
        }
      ]
    },
    {
      "cell_type": "code",
      "source": [],
      "metadata": {
        "id": "AtbgDhlMboph"
      },
      "execution_count": null,
      "outputs": []
    }
  ],
  "metadata": {
    "colab": {
      "provenance": []
    },
    "kernelspec": {
      "display_name": "Python 3",
      "name": "python3"
    },
    "language_info": {
      "name": "python"
    }
  },
  "nbformat": 4,
  "nbformat_minor": 0
}