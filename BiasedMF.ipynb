{
 "cells": [
  {
   "cell_type": "markdown",
   "id": "1e22bccb",
   "metadata": {},
   "source": [
    "# BiasedMF"
   ]
  },
  {
   "cell_type": "code",
   "execution_count": 1,
   "id": "ab34723a",
   "metadata": {},
   "outputs": [
    {
     "name": "stderr",
     "output_type": "stream",
     "text": [
      "C:\\Users\\user\\anaconda3\\lib\\site-packages\\pandas\\core\\computation\\expressions.py:21: UserWarning: Pandas requires version '2.8.4' or newer of 'numexpr' (version '2.8.1' currently installed).\n",
      "  from pandas.core.computation.check import NUMEXPR_INSTALLED\n",
      "C:\\Users\\user\\anaconda3\\lib\\site-packages\\pandas\\core\\arrays\\masked.py:60: UserWarning: Pandas requires version '1.3.6' or newer of 'bottleneck' (version '1.3.4' currently installed).\n",
      "  from pandas.core import (\n"
     ]
    }
   ],
   "source": [
    "import pandas as pd\n",
    "import numpy as np\n",
    "from surprise import Dataset, Reader, accuracy\n",
    "from surprise.model_selection import GridSearchCV \n",
    "from surprise.model_selection import train_test_split\n",
    "import matplotlib.pyplot as plt"
   ]
  },
  {
   "cell_type": "markdown",
   "id": "7fe40aff",
   "metadata": {},
   "source": [
    "## Load Data"
   ]
  },
  {
   "cell_type": "code",
   "execution_count": 2,
   "id": "7667d416",
   "metadata": {},
   "outputs": [],
   "source": [
    "data = pd.read_csv(\"data/Tempat-Wisata-Toba-Preprocessing.csv\")"
   ]
  },
  {
   "cell_type": "code",
   "execution_count": 3,
   "id": "b4accb5b",
   "metadata": {},
   "outputs": [
    {
     "data": {
      "text/plain": [
       "Index(['Unnamed: 0.1', 'Unnamed: 0', 'address', 'PlaceID',\n",
       "       'Nama_tempat_wisata', 'Category', 'ReviewerId', 'Rating', 'Reviews'],\n",
       "      dtype='object')"
      ]
     },
     "execution_count": 3,
     "metadata": {},
     "output_type": "execute_result"
    }
   ],
   "source": [
    "data.columns"
   ]
  },
  {
   "cell_type": "code",
   "execution_count": 4,
   "id": "ef67a4d9",
   "metadata": {},
   "outputs": [
    {
     "data": {
      "text/html": [
       "<div>\n",
       "<style scoped>\n",
       "    .dataframe tbody tr th:only-of-type {\n",
       "        vertical-align: middle;\n",
       "    }\n",
       "\n",
       "    .dataframe tbody tr th {\n",
       "        vertical-align: top;\n",
       "    }\n",
       "\n",
       "    .dataframe thead th {\n",
       "        text-align: right;\n",
       "    }\n",
       "</style>\n",
       "<table border=\"1\" class=\"dataframe\">\n",
       "  <thead>\n",
       "    <tr style=\"text-align: right;\">\n",
       "      <th></th>\n",
       "      <th>Unnamed: 0.1</th>\n",
       "      <th>Unnamed: 0</th>\n",
       "      <th>address</th>\n",
       "      <th>item_id</th>\n",
       "      <th>Nama_tempat_wisata</th>\n",
       "      <th>Category</th>\n",
       "      <th>user_id</th>\n",
       "      <th>rating</th>\n",
       "      <th>Reviews</th>\n",
       "    </tr>\n",
       "  </thead>\n",
       "  <tbody>\n",
       "    <tr>\n",
       "      <th>1</th>\n",
       "      <td>1</td>\n",
       "      <td>1</td>\n",
       "      <td>Jl. Sibola Hotang, Sibola Hotangsas, Kec. Bali...</td>\n",
       "      <td>0</td>\n",
       "      <td>PASIR PUTIH LUMBAN BULBUL</td>\n",
       "      <td>Wisata Bahari</td>\n",
       "      <td>1.119090e+20</td>\n",
       "      <td>5.0</td>\n",
       "      <td>bagus</td>\n",
       "    </tr>\n",
       "    <tr>\n",
       "      <th>3</th>\n",
       "      <td>3</td>\n",
       "      <td>3</td>\n",
       "      <td>Jl. Sibola Hotang, Sibola Hotangsas, Kec. Bali...</td>\n",
       "      <td>0</td>\n",
       "      <td>PASIR PUTIH LUMBAN BULBUL</td>\n",
       "      <td>Wisata Bahari</td>\n",
       "      <td>1.130720e+20</td>\n",
       "      <td>5.0</td>\n",
       "      <td>sangat menyenagkan</td>\n",
       "    </tr>\n",
       "    <tr>\n",
       "      <th>4</th>\n",
       "      <td>4</td>\n",
       "      <td>4</td>\n",
       "      <td>Jl. Sibola Hotang, Sibola Hotangsas, Kec. Bali...</td>\n",
       "      <td>0</td>\n",
       "      <td>PASIR PUTIH LUMBAN BULBUL</td>\n",
       "      <td>Wisata Bahari</td>\n",
       "      <td>1.061730e+20</td>\n",
       "      <td>5.0</td>\n",
       "      <td>bebas foto dimana aja cuma 2k</td>\n",
       "    </tr>\n",
       "    <tr>\n",
       "      <th>6</th>\n",
       "      <td>6</td>\n",
       "      <td>6</td>\n",
       "      <td>Jl. Sibola Hotang, Sibola Hotangsas, Kec. Bali...</td>\n",
       "      <td>0</td>\n",
       "      <td>PASIR PUTIH LUMBAN BULBUL</td>\n",
       "      <td>Wisata Bahari</td>\n",
       "      <td>1.142390e+20</td>\n",
       "      <td>5.0</td>\n",
       "      <td>amazing pengen kesini lagi</td>\n",
       "    </tr>\n",
       "    <tr>\n",
       "      <th>8</th>\n",
       "      <td>8</td>\n",
       "      <td>8</td>\n",
       "      <td>Jl. Sibola Hotang, Sibola Hotangsas, Kec. Bali...</td>\n",
       "      <td>0</td>\n",
       "      <td>PASIR PUTIH LUMBAN BULBUL</td>\n",
       "      <td>Wisata Bahari</td>\n",
       "      <td>1.047430e+20</td>\n",
       "      <td>3.0</td>\n",
       "      <td>jalan menuju lokasi perlu diperhatikan oleh pe...</td>\n",
       "    </tr>\n",
       "  </tbody>\n",
       "</table>\n",
       "</div>"
      ],
      "text/plain": [
       "   Unnamed: 0.1  Unnamed: 0  \\\n",
       "1             1           1   \n",
       "3             3           3   \n",
       "4             4           4   \n",
       "6             6           6   \n",
       "8             8           8   \n",
       "\n",
       "                                             address  item_id  \\\n",
       "1  Jl. Sibola Hotang, Sibola Hotangsas, Kec. Bali...        0   \n",
       "3  Jl. Sibola Hotang, Sibola Hotangsas, Kec. Bali...        0   \n",
       "4  Jl. Sibola Hotang, Sibola Hotangsas, Kec. Bali...        0   \n",
       "6  Jl. Sibola Hotang, Sibola Hotangsas, Kec. Bali...        0   \n",
       "8  Jl. Sibola Hotang, Sibola Hotangsas, Kec. Bali...        0   \n",
       "\n",
       "          Nama_tempat_wisata       Category       user_id  rating  \\\n",
       "1  PASIR PUTIH LUMBAN BULBUL  Wisata Bahari  1.119090e+20     5.0   \n",
       "3  PASIR PUTIH LUMBAN BULBUL  Wisata Bahari  1.130720e+20     5.0   \n",
       "4  PASIR PUTIH LUMBAN BULBUL  Wisata Bahari  1.061730e+20     5.0   \n",
       "6  PASIR PUTIH LUMBAN BULBUL  Wisata Bahari  1.142390e+20     5.0   \n",
       "8  PASIR PUTIH LUMBAN BULBUL  Wisata Bahari  1.047430e+20     3.0   \n",
       "\n",
       "                                             Reviews  \n",
       "1                                              bagus  \n",
       "3                                 sangat menyenagkan  \n",
       "4                      bebas foto dimana aja cuma 2k  \n",
       "6                         amazing pengen kesini lagi  \n",
       "8  jalan menuju lokasi perlu diperhatikan oleh pe...  "
      ]
     },
     "execution_count": 4,
     "metadata": {},
     "output_type": "execute_result"
    }
   ],
   "source": [
    "data = data.rename(columns={'ReviewerId': 'user_id', 'PlaceID': 'item_id', 'Rating': 'rating'})\n",
    "data['rating'] = data['rating'].astype(float)\n",
    "data.dropna(inplace=True)\n",
    "data.head()"
   ]
  },
  {
   "cell_type": "code",
   "execution_count": 5,
   "id": "6d0c9402",
   "metadata": {},
   "outputs": [
    {
     "data": {
      "text/html": [
       "<div>\n",
       "<style scoped>\n",
       "    .dataframe tbody tr th:only-of-type {\n",
       "        vertical-align: middle;\n",
       "    }\n",
       "\n",
       "    .dataframe tbody tr th {\n",
       "        vertical-align: top;\n",
       "    }\n",
       "\n",
       "    .dataframe thead th {\n",
       "        text-align: right;\n",
       "    }\n",
       "</style>\n",
       "<table border=\"1\" class=\"dataframe\">\n",
       "  <thead>\n",
       "    <tr style=\"text-align: right;\">\n",
       "      <th></th>\n",
       "      <th>item_id</th>\n",
       "      <th>Nama_tempat_wisata</th>\n",
       "      <th>user_id</th>\n",
       "      <th>rating</th>\n",
       "    </tr>\n",
       "  </thead>\n",
       "  <tbody>\n",
       "    <tr>\n",
       "      <th>1</th>\n",
       "      <td>0</td>\n",
       "      <td>PASIR PUTIH LUMBAN BULBUL</td>\n",
       "      <td>1.119090e+20</td>\n",
       "      <td>5.0</td>\n",
       "    </tr>\n",
       "    <tr>\n",
       "      <th>3</th>\n",
       "      <td>0</td>\n",
       "      <td>PASIR PUTIH LUMBAN BULBUL</td>\n",
       "      <td>1.130720e+20</td>\n",
       "      <td>5.0</td>\n",
       "    </tr>\n",
       "    <tr>\n",
       "      <th>4</th>\n",
       "      <td>0</td>\n",
       "      <td>PASIR PUTIH LUMBAN BULBUL</td>\n",
       "      <td>1.061730e+20</td>\n",
       "      <td>5.0</td>\n",
       "    </tr>\n",
       "    <tr>\n",
       "      <th>6</th>\n",
       "      <td>0</td>\n",
       "      <td>PASIR PUTIH LUMBAN BULBUL</td>\n",
       "      <td>1.142390e+20</td>\n",
       "      <td>5.0</td>\n",
       "    </tr>\n",
       "    <tr>\n",
       "      <th>8</th>\n",
       "      <td>0</td>\n",
       "      <td>PASIR PUTIH LUMBAN BULBUL</td>\n",
       "      <td>1.047430e+20</td>\n",
       "      <td>3.0</td>\n",
       "    </tr>\n",
       "  </tbody>\n",
       "</table>\n",
       "</div>"
      ],
      "text/plain": [
       "   item_id         Nama_tempat_wisata       user_id  rating\n",
       "1        0  PASIR PUTIH LUMBAN BULBUL  1.119090e+20     5.0\n",
       "3        0  PASIR PUTIH LUMBAN BULBUL  1.130720e+20     5.0\n",
       "4        0  PASIR PUTIH LUMBAN BULBUL  1.061730e+20     5.0\n",
       "6        0  PASIR PUTIH LUMBAN BULBUL  1.142390e+20     5.0\n",
       "8        0  PASIR PUTIH LUMBAN BULBUL  1.047430e+20     3.0"
      ]
     },
     "execution_count": 5,
     "metadata": {},
     "output_type": "execute_result"
    }
   ],
   "source": [
    "col_to_drop = ['Unnamed: 0.1', 'Unnamed: 0', 'address', 'Category', 'Reviews']\n",
    "data = data.drop(columns=col_to_drop)\n",
    "data.head()"
   ]
  },
  {
   "cell_type": "code",
   "execution_count": 6,
   "id": "6e6bdd14",
   "metadata": {},
   "outputs": [
    {
     "data": {
      "text/plain": [
       "(22166, 4)"
      ]
     },
     "execution_count": 6,
     "metadata": {},
     "output_type": "execute_result"
    }
   ],
   "source": [
    "data.shape"
   ]
  },
  {
   "cell_type": "code",
   "execution_count": 7,
   "id": "045ec2db",
   "metadata": {},
   "outputs": [],
   "source": [
    "# Define Reader object\n",
    "reader = Reader(rating_scale=(data['rating'].min(), data['rating'].max()))\n",
    "dataset = Dataset.load_from_df(data[['user_id', 'item_id', 'rating']], reader)"
   ]
  },
  {
   "cell_type": "markdown",
   "id": "8686ade2",
   "metadata": {},
   "source": [
    "## Split Data"
   ]
  },
  {
   "cell_type": "code",
   "execution_count": 10,
   "id": "4fffef3e",
   "metadata": {},
   "outputs": [
    {
     "name": "stdout",
     "output_type": "stream",
     "text": [
      "Train data shape: (15516, 4) (70.00% dari total data)\n",
      "Validation data shape: (3325, 4) (15.00% dari total data)\n",
      "Test data shape: (3325, 4) (15.00% dari total data)\n"
     ]
    }
   ],
   "source": [
    "from sklearn.model_selection import train_test_split\n",
    "\n",
    "# Membagi data menjadi train (70%) dan sisanya (30%)\n",
    "train_data, temp_data = train_test_split(data, test_size=0.30, random_state=42)\n",
    "\n",
    "# Membagi temp_data menjadi validation (15% dari total data) dan test (15% dari total data)\n",
    "val_data, test_data = train_test_split(temp_data, test_size=0.50, random_state=42)\n",
    "\n",
    "# Menampilkan hasil pembagian data\n",
    "print(f\"Train data shape: {train_data.shape} ({len(train_data) / len(data):.2%} dari total data)\")\n",
    "print(f\"Validation data shape: {val_data.shape} ({len(val_data) / len(data):.2%} dari total data)\")\n",
    "print(f\"Test data shape: {test_data.shape} ({len(test_data) / len(data):.2%} dari total data)\")"
   ]
  },
  {
   "cell_type": "markdown",
   "id": "e7e84ff9",
   "metadata": {},
   "source": [
    "## Create User-Item Matrix"
   ]
  },
  {
   "cell_type": "code",
   "execution_count": 12,
   "id": "9db0581b",
   "metadata": {},
   "outputs": [
    {
     "name": "stdout",
     "output_type": "stream",
     "text": [
      "Train Matrix:\n",
      "item_id       0    1    2    3    4    5    6    8    9    10   ...  92   93   \\\n",
      "user_id                                                         ...             \n",
      "1.000030e+20  0.0  0.0  0.0  0.0  0.0  0.0  0.0  0.0  0.0  0.0  ...  0.0  0.0   \n",
      "1.000040e+20  0.0  0.0  0.0  0.0  0.0  0.0  0.0  0.0  0.0  0.0  ...  0.0  0.0   \n",
      "1.000090e+20  0.0  0.0  0.0  0.0  0.0  0.0  0.0  0.0  0.0  0.0  ...  0.0  0.0   \n",
      "1.000100e+20  0.0  0.0  0.0  0.0  0.0  0.0  0.0  0.0  0.0  0.0  ...  0.0  0.0   \n",
      "1.000120e+20  0.0  0.0  0.0  0.0  0.0  0.0  0.0  0.0  0.0  0.0  ...  0.0  0.0   \n",
      "...           ...  ...  ...  ...  ...  ...  ...  ...  ...  ...  ...  ...  ...   \n",
      "1.184390e+20  0.0  0.0  0.0  0.0  0.0  0.0  0.0  0.0  0.0  0.0  ...  5.0  0.0   \n",
      "1.184410e+20  0.0  0.0  0.0  0.0  0.0  0.0  0.0  0.0  0.0  0.0  ...  0.0  0.0   \n",
      "1.184430e+20  0.0  0.0  0.0  0.0  0.0  0.0  0.0  0.0  0.0  0.0  ...  0.0  5.0   \n",
      "1.184440e+20  0.0  0.0  0.0  0.0  0.0  0.0  0.0  0.0  0.0  0.0  ...  0.0  0.0   \n",
      "1.184460e+20  0.0  0.0  0.0  0.0  0.0  0.0  0.0  0.0  0.0  0.0  ...  0.0  0.0   \n",
      "\n",
      "item_id       94   95   96   97   98   99   100  101  \n",
      "user_id                                               \n",
      "1.000030e+20  0.0  0.0  0.0  0.0  4.0  0.0  0.0  0.0  \n",
      "1.000040e+20  0.0  0.0  0.0  0.0  0.0  0.0  0.0  0.0  \n",
      "1.000090e+20  5.0  0.0  0.0  0.0  0.0  5.0  0.0  0.0  \n",
      "1.000100e+20  0.0  0.0  0.0  0.0  0.0  0.0  0.0  5.0  \n",
      "1.000120e+20  0.0  5.0  0.0  0.0  0.0  0.0  0.0  0.0  \n",
      "...           ...  ...  ...  ...  ...  ...  ...  ...  \n",
      "1.184390e+20  0.0  0.0  0.0  0.0  0.0  0.0  0.0  0.0  \n",
      "1.184410e+20  0.0  0.0  5.0  0.0  0.0  0.0  0.0  0.0  \n",
      "1.184430e+20  0.0  0.0  0.0  0.0  0.0  0.0  0.0  0.0  \n",
      "1.184440e+20  0.0  0.0  0.0  0.0  0.0  0.0  0.0  5.0  \n",
      "1.184460e+20  0.0  0.0  0.0  0.0  0.0  0.0  0.0  0.0  \n",
      "\n",
      "[8888 rows x 101 columns]\n",
      "\n",
      "Validation Matrix:\n",
      "item_id       0    1    2    3    4    5    6    8    9    10   ...  92   93   \\\n",
      "user_id                                                         ...             \n",
      "1.000100e+20  0.0  0.0    0  0.0  0.0  0.0  0.0    0  0.0  0.0  ...  0.0  0.0   \n",
      "1.000160e+20  0.0  0.0    0  0.0  0.0  0.0  0.0    0  0.0  0.0  ...  0.0  0.0   \n",
      "1.000270e+20  0.0  0.0    0  0.0  0.0  0.0  0.0    0  0.0  0.0  ...  0.0  0.0   \n",
      "1.000280e+20  0.0  0.0    0  0.0  0.0  0.0  0.0    0  0.0  0.0  ...  0.0  4.0   \n",
      "1.000380e+20  0.0  0.0    0  0.0  0.0  0.0  0.0    0  0.0  0.0  ...  0.0  0.0   \n",
      "...           ...  ...  ...  ...  ...  ...  ...  ...  ...  ...  ...  ...  ...   \n",
      "1.184280e+20  0.0  0.0    0  0.0  0.0  0.0  0.0    0  0.0  0.0  ...  0.0  0.0   \n",
      "1.184330e+20  0.0  0.0    0  0.0  0.0  0.0  0.0    0  0.0  0.0  ...  0.0  0.0   \n",
      "1.184360e+20  0.0  0.0    0  0.0  0.0  0.0  0.0    0  0.0  0.0  ...  0.0  0.0   \n",
      "1.184430e+20  0.0  0.0    0  0.0  0.0  0.0  0.0    0  0.0  0.0  ...  0.0  0.0   \n",
      "1.184460e+20  0.0  0.0    0  0.0  0.0  0.0  0.0    0  0.0  0.0  ...  0.0  0.0   \n",
      "\n",
      "item_id       94   95   96   97   98   99   100  101  \n",
      "user_id                                               \n",
      "1.000100e+20  0.0  4.0  0.0  0.0  0.0  0.0  0.0  0.0  \n",
      "1.000160e+20  0.0  0.0  4.0  0.0  0.0  0.0  0.0  0.0  \n",
      "1.000270e+20  0.0  0.0  0.0  0.0  5.0  0.0  0.0  0.0  \n",
      "1.000280e+20  0.0  0.0  0.0  0.0  0.0  0.0  0.0  0.0  \n",
      "1.000380e+20  0.0  0.0  0.0  0.0  0.0  0.0  0.0  0.0  \n",
      "...           ...  ...  ...  ...  ...  ...  ...  ...  \n",
      "1.184280e+20  0.0  0.0  0.0  0.0  0.0  0.0  0.0  0.0  \n",
      "1.184330e+20  0.0  0.0  0.0  0.0  0.0  0.0  0.0  0.0  \n",
      "1.184360e+20  0.0  0.0  0.0  0.0  0.0  0.0  0.0  0.0  \n",
      "1.184430e+20  0.0  0.0  0.0  0.0  0.0  0.0  0.0  0.0  \n",
      "1.184460e+20  0.0  0.0  0.0  0.0  0.0  0.0  0.0  0.0  \n",
      "\n",
      "[2846 rows x 101 columns]\n",
      "\n",
      "Test Matrix:\n",
      "item_id       0    1    2    3    4    5    6    8    9    10   ...  92   93   \\\n",
      "user_id                                                         ...             \n",
      "1.000120e+20  0.0  0.0    0  0.0  0.0  0.0  0.0  0.0  0.0  0.0  ...  0.0  0.0   \n",
      "1.000300e+20  0.0  0.0    0  0.0  0.0  0.0  0.0  0.0  0.0  0.0  ...  0.0  5.0   \n",
      "1.000340e+20  0.0  0.0    0  0.0  0.0  0.0  0.0  0.0  0.0  0.0  ...  0.0  0.0   \n",
      "1.000370e+20  0.0  0.0    0  0.0  0.0  0.0  0.0  0.0  0.0  0.0  ...  0.0  0.0   \n",
      "1.000380e+20  0.0  0.0    0  0.0  0.0  0.0  0.0  0.0  0.0  0.0  ...  0.0  0.0   \n",
      "...           ...  ...  ...  ...  ...  ...  ...  ...  ...  ...  ...  ...  ...   \n",
      "1.184360e+20  0.0  0.0    0  0.0  0.0  0.0  0.0  0.0  0.0  0.0  ...  0.0  0.0   \n",
      "1.184390e+20  0.0  0.0    0  0.0  0.0  0.0  0.0  0.0  0.0  0.0  ...  0.0  0.0   \n",
      "1.184400e+20  0.0  0.0    0  0.0  0.0  0.0  0.0  0.0  0.0  0.0  ...  0.0  0.0   \n",
      "1.184410e+20  0.0  0.0    0  0.0  0.0  0.0  0.0  0.0  0.0  0.0  ...  0.0  0.0   \n",
      "1.184440e+20  0.0  0.0    0  0.0  0.0  0.0  0.0  0.0  0.0  0.0  ...  0.0  0.0   \n",
      "\n",
      "item_id       94   95   96   97   98   99   100  101  \n",
      "user_id                                               \n",
      "1.000120e+20  0.0  0.0  0.0  0.0  0.0  0.0  0.0  5.0  \n",
      "1.000300e+20  0.0  0.0  0.0  0.0  0.0  0.0  0.0  0.0  \n",
      "1.000340e+20  0.0  0.0  0.0  0.0  0.0  0.0  0.0  5.0  \n",
      "1.000370e+20  0.0  0.0  0.0  0.0  0.0  0.0  0.0  0.0  \n",
      "1.000380e+20  0.0  0.0  0.0  0.0  0.0  0.0  0.0  0.0  \n",
      "...           ...  ...  ...  ...  ...  ...  ...  ...  \n",
      "1.184360e+20  0.0  0.0  0.0  0.0  0.0  0.0  0.0  0.0  \n",
      "1.184390e+20  0.0  0.0  0.0  0.0  0.0  0.0  0.0  0.0  \n",
      "1.184400e+20  0.0  0.0  0.0  0.0  0.0  0.0  0.0  0.0  \n",
      "1.184410e+20  0.0  0.0  0.0  0.0  4.0  0.0  0.0  0.0  \n",
      "1.184440e+20  0.0  0.0  0.0  0.0  0.0  0.0  0.0  0.0  \n",
      "\n",
      "[2814 rows x 101 columns]\n"
     ]
    }
   ],
   "source": [
    "# Create user-item matrix\n",
    "def create_user_item_matrix(data, user_col='user_id', item_col='item_id', rating_col='rating'):\n",
    "    data = data.groupby([user_col, item_col])[rating_col].mean().reset_index()\n",
    "    return data.pivot(index=user_col, columns=item_col, values=rating_col).fillna(0)\n",
    "\n",
    "# Generate matrices for each split\n",
    "train_matrix = create_user_item_matrix(train_data)\n",
    "val_matrix = create_user_item_matrix(val_data).reindex(columns=train_matrix.columns, fill_value=0)\n",
    "test_matrix = create_user_item_matrix(test_data).reindex(columns=train_matrix.columns, fill_value=0)\n",
    "\n",
    "# Print the matrices\n",
    "print(\"Train Matrix:\")\n",
    "print(train_matrix)\n",
    "print(\"\\nValidation Matrix:\")\n",
    "print(val_matrix)\n",
    "print(\"\\nTest Matrix:\")\n",
    "print(test_matrix)"
   ]
  },
  {
   "cell_type": "code",
   "execution_count": 13,
   "id": "09d5802d",
   "metadata": {},
   "outputs": [],
   "source": [
    "# Filter hanya user dengan minimal 10 interaksi\n",
    "user_counts = data['user_id'].value_counts()\n",
    "active_users = user_counts[user_counts >= 10].index\n",
    "filtered_data = data[data['user_id'].isin(active_users)]\n",
    "\n",
    "dataset = Dataset.load_from_df(filtered_data[['user_id', 'Nama_tempat_wisata', 'rating']], reader)"
   ]
  },
  {
   "cell_type": "code",
   "execution_count": 14,
   "id": "8bb5c492",
   "metadata": {},
   "outputs": [
    {
     "name": "stdout",
     "output_type": "stream",
     "text": [
      "Best parameters: {'rmse': {'n_epochs': 20, 'lr_all': 0.01, 'reg_all': 0.4}, 'mae': {'n_epochs': 50, 'lr_all': 0.01, 'reg_all': 0.2}}\n",
      "Best RMSE: 0.7415714221783705\n",
      "Best MAE: 0.5428731562567026\n"
     ]
    }
   ],
   "source": [
    "from surprise import SVD, SVDpp\n",
    "from surprise.model_selection import GridSearchCV\n",
    "\n",
    "# Definisikan parameter grid untuk hyperparameter tuning\n",
    "param_grid = {\n",
    "    'n_epochs': [20, 30, 50],\n",
    "    'lr_all': [0.002, 0.005, 0.01],\n",
    "    'reg_all': [0.2, 0.4, 0.6]\n",
    "}\n",
    "\n",
    "# GridSearchCV untuk SVD (Biased MF)\n",
    "grid_search = GridSearchCV(SVD, param_grid, measures=['rmse', 'mae'], cv=3)\n",
    "grid_search.fit(dataset)\n",
    "\n",
    "# Tampilkan hasil grid search\n",
    "print(\"Best parameters:\", grid_search.best_params)\n",
    "print(\"Best RMSE:\", grid_search.best_score['rmse'])\n",
    "print(\"Best MAE:\", grid_search.best_score['mae'])"
   ]
  },
  {
   "cell_type": "code",
   "execution_count": 15,
   "id": "1f006138",
   "metadata": {},
   "outputs": [],
   "source": [
    "# Pilih model terbaik berdasarkan hasil grid search\n",
    "best_model = grid_search.best_estimator['rmse']\n",
    "\n",
    "# Latih model terbaik pada trainset\n",
    "trainset = dataset.build_full_trainset()\n",
    "best_model.fit(trainset)\n",
    "\n",
    "# Evaluasi model pada testset\n",
    "testset = trainset.build_testset()\n",
    "predictions = best_model.test(testset)"
   ]
  },
  {
   "cell_type": "code",
   "execution_count": 18,
   "id": "5e0ceeed",
   "metadata": {},
   "outputs": [
    {
     "name": "stdout",
     "output_type": "stream",
     "text": [
      "RMSE: 0.6075\n",
      "RMSE: 0.6074579562240574\n",
      "MAE:  0.4532\n",
      "RMSE: 0.45320291169909627\n"
     ]
    }
   ],
   "source": [
    "# Hitung RMSE untuk evaluasi\n",
    "rmse = accuracy.rmse(predictions)\n",
    "print(f\"RMSE: {rmse}\")\n",
    "mae = accuracy.mae(predictions)\n",
    "print(f\"RMSE: {mae}\")"
   ]
  },
  {
   "cell_type": "code",
   "execution_count": 17,
   "id": "7b4cffc8",
   "metadata": {},
   "outputs": [
    {
     "name": "stdout",
     "output_type": "stream",
     "text": [
      "Precision@5: 0.9782\n",
      "Recall@5: 0.5137\n",
      "MAP@5: 0.2403\n",
      "Precision@10: 0.9564\n",
      "Recall@10: 1.0000\n",
      "MAP@10: 0.3082\n"
     ]
    }
   ],
   "source": [
    "from collections import defaultdict\n",
    "from surprise import accuracy\n",
    "import numpy as np\n",
    "\n",
    "# Fungsi untuk menghitung Precision@K, Recall@K, dan MAP@K\n",
    "def get_top_n(predictions, n=10):\n",
    "    # Menyusun hasil prediksi menjadi dictionary dengan user_id sebagai kunci\n",
    "    top_n = defaultdict(list)\n",
    "    for uid, iid, true_r, est, _ in predictions:\n",
    "        top_n[uid].append((iid, est))\n",
    "\n",
    "    # Urutkan dan ambil top-N untuk setiap user\n",
    "    for uid, user_ratings in top_n.items():\n",
    "        user_ratings.sort(key=lambda x: x[1], reverse=True)\n",
    "        top_n[uid] = user_ratings[:n]\n",
    "\n",
    "    return top_n\n",
    "\n",
    "# Fungsi untuk menghitung Precision@K dan Recall@K\n",
    "def precision_recall_at_k(predictions, top_n, k=10):\n",
    "    precision = 0\n",
    "    recall = 0\n",
    "    for uid, user_ratings in top_n.items():\n",
    "        relevant_items = set([iid for iid, _ in user_ratings])\n",
    "        recommended_items = set([iid for iid, _ in user_ratings[:k]])\n",
    "\n",
    "        # Precision: jumlah item yang relevan di top-K / total item yang direkomendasikan\n",
    "        precision += len(recommended_items.intersection(relevant_items)) / k\n",
    "\n",
    "        # Recall: jumlah item yang relevan di top-K / total item relevan\n",
    "        recall += len(recommended_items.intersection(relevant_items)) / len(relevant_items)\n",
    "\n",
    "    # Rata-rata precision dan recall untuk semua user\n",
    "    precision /= len(top_n)\n",
    "    recall /= len(top_n)\n",
    "\n",
    "    return precision, recall\n",
    "\n",
    "# Fungsi untuk menghitung MAP@K\n",
    "def mean_average_precision_at_k(predictions, top_n, k=10):\n",
    "    mapk = 0\n",
    "    for uid, user_ratings in top_n.items():\n",
    "        relevant_items = set([iid for iid, _ in user_ratings])\n",
    "        avg_precision = 0\n",
    "        for i, (iid, _) in enumerate(user_ratings[:k]):\n",
    "            if iid in relevant_items:\n",
    "                avg_precision += len(relevant_items.intersection([iid])) / (i+1)\n",
    "\n",
    "        # Rata-rata precision untuk satu user\n",
    "        if len(relevant_items) > 0:\n",
    "            avg_precision /= len(relevant_items)\n",
    "        mapk += avg_precision\n",
    "\n",
    "    # Rata-rata MAP untuk semua user\n",
    "    mapk /= len(top_n)\n",
    "    return mapk\n",
    "\n",
    "# Prediksi testset\n",
    "testset = trainset.build_testset()\n",
    "predictions = best_model.test(testset)\n",
    "\n",
    "# Ambil top-N rekomendasi\n",
    "top_n = get_top_n(predictions, n=10)\n",
    "\n",
    "# Hitung Precision@K, Recall@K, dan MAP@K untuk k=5 dan k=10\n",
    "precision_5, recall_5 = precision_recall_at_k(predictions, top_n, k=5)\n",
    "precision_10, recall_10 = precision_recall_at_k(predictions, top_n, k=10)\n",
    "mapk_5 = mean_average_precision_at_k(predictions, top_n, k=5)\n",
    "mapk_10 = mean_average_precision_at_k(predictions, top_n, k=10)\n",
    "\n",
    "# Tampilkan hasil\n",
    "print(f\"Precision@5: {precision_5:.4f}\")\n",
    "print(f\"Recall@5: {recall_5:.4f}\")\n",
    "print(f\"MAP@5: {mapk_5:.4f}\")\n",
    "\n",
    "print(f\"Precision@10: {precision_10:.4f}\")\n",
    "print(f\"Recall@10: {recall_10:.4f}\")\n",
    "print(f\"MAP@10: {mapk_10:.4f}\")\n"
   ]
  },
  {
   "cell_type": "code",
   "execution_count": 33,
   "id": "cbf97a7a",
   "metadata": {},
   "outputs": [
    {
     "data": {
      "image/png": "[encoded data removed]",
      "text/plain": [
       "<Figure size 576x360 with 1 Axes>"
      ]
     },
     "metadata": {
      "needs_background": "light"
     },
     "output_type": "display_data"
    }
   ],
   "source": [
    "import matplotlib.pyplot as plt\n",
    "import numpy as np\n",
    "\n",
    "# Simpan nilai RMSE dan MAE yang sudah dihitung\n",
    "metrics = {'RMSE': rmse, 'MAE': mae}\n",
    "\n",
    "# Visualisasi menggunakan diagram batang\n",
    "plt.figure(figsize=(8, 5))\n",
    "plt.bar(metrics.keys(), metrics.values(), color=['skyblue', 'salmon'], alpha=0.8, edgecolor='black')\n",
    "\n",
    "# Tambahkan nilai di atas batang\n",
    "for i, (metric, value) in enumerate(metrics.items()):\n",
    "    plt.text(i, value + 0.01, f'{value:.4f}', ha='center', fontsize=12, fontweight='bold')\n",
    "\n",
    "# Tambahkan detail pada plot\n",
    "plt.title('RMSE dan MAE Model BiasedMF', fontsize=16, fontweight='bold')\n",
    "plt.ylabel('Error', fontsize=14)\n",
    "plt.xticks(fontsize=12)\n",
    "plt.yticks(fontsize=12)\n",
    "plt.ylim(0, max(metrics.values()) + 0.5)\n",
    "\n",
    "# Tampilkan diagram batang\n",
    "plt.grid(axis='y', linestyle='--', alpha=0.7)\n",
    "plt.tight_layout()\n",
    "plt.show()"
   ]
  },
  {
   "cell_type": "code",
   "execution_count": 31,
   "id": "95a75055",
   "metadata": {},
   "outputs": [
    {
     "data": {
      "image/png": "[encoded data removed]",
      "text/plain": [
       "<Figure size 720x432 with 1 Axes>"
      ]
     },
     "metadata": {
      "needs_background": "light"
     },
     "output_type": "display_data"
    }
   ],
   "source": [
    "import matplotlib.pyplot as plt\n",
    "import numpy as np\n",
    "\n",
    "# Simpan nilai Precision, Recall, dan MAP untuk k@5 dan k@10\n",
    "metrics = {\n",
    "    'Precision@5': 0.9782,\n",
    "    'Recall@5': 0.5137,\n",
    "    'MAP@5': 0.2403,\n",
    "    'Precision@10': 0.9564,\n",
    "    'Recall@10': 1.0000,\n",
    "    'MAP@10': 0.3082\n",
    "}\n",
    "\n",
    "# Visualisasi menggunakan diagram batang\n",
    "plt.figure(figsize=(10, 6))\n",
    "plt.bar(metrics.keys(), metrics.values(), color=['blue', 'orange', 'green', 'blue', 'orange', 'green'], alpha=0.8, edgecolor='black')\n",
    "\n",
    "# Tambahkan nilai di atas batang\n",
    "for i, (metric, value) in enumerate(metrics.items()):\n",
    "    plt.text(i, value + 0.01, f'{value:.4f}', ha='center', fontsize=12, fontweight='bold')\n",
    "\n",
    "# Tambahkan detail pada plot\n",
    "plt.title('Precision, Recall, and MAP for k@5 and k@10 Model BiasedMF', fontsize=16, fontweight='bold')\n",
    "plt.ylabel('Metric Value', fontsize=14)\n",
    "plt.xticks(fontsize=12)\n",
    "plt.yticks(fontsize=12)\n",
    "plt.ylim(0, max(metrics.values()) + 0.2)\n",
    "\n",
    "# Tampilkan diagram batang\n",
    "plt.grid(axis='y', linestyle='--', alpha=0.7)\n",
    "plt.tight_layout()\n",
    "plt.show()"
   ]
  },
  {
   "cell_type": "code",
   "execution_count": 32,
   "id": "50befeef",
   "metadata": {},
   "outputs": [
    {
     "name": "stdout",
     "output_type": "stream",
     "text": [
      "Top 5 rekomendasi untuk User 1.08733e+20: Model BiasedMF\n",
      "   Place ID                               Nama Tempat Wisata  Predicted Rating\n",
      "0         0                        PASIR PUTIH LUMBAN BULBUL          4.505797\n",
      "1         1  Patung Yesus, Bukit Sibea-bea, Huta Harian Boho          4.505797\n",
      "2         2                      Pelabuhan wisata danau toba          4.505797\n",
      "3         3                                        Singgolom          4.505797\n",
      "4         4                        Puncak Panorama Aek Nauli          4.505797\n"
     ]
    }
   ],
   "source": [
    "algo = SVD()\n",
    "algo.fit(trainset)\n",
    "\n",
    "def get_top_n_recommendations(predictions, n=5):\n",
    "    top_n = {}\n",
    "    for uid, iid, true_r, est, _ in predictions:\n",
    "        if uid not in top_n:\n",
    "            top_n[uid] = []\n",
    "        top_n[uid].append((iid, est))\n",
    "\n",
    "    for uid, user_ratings in top_n.items():\n",
    "        user_ratings.sort(key=lambda x: x[1], reverse=True)\n",
    "\n",
    "    top_n = {uid: user_ratings[:n] for uid, user_ratings in top_n.items()}\n",
    "    \n",
    "    return top_n\n",
    "\n",
    "user_id = '1.08733e+20' \n",
    "\n",
    "unrated_items = data[~data['item_id'].isin(data[data['user_id'] == user_id]['item_id'])]\n",
    "testset = [(user_id, iid, 4.) for iid in unrated_items['item_id'].unique()]\n",
    "\n",
    "predictions = algo.test(testset)\n",
    "\n",
    "top_n_recommendations = get_top_n_recommendations(predictions, n=5)\n",
    "\n",
    "user_recommendations = top_n_recommendations.get(user_id, [])\n",
    "if user_recommendations:\n",
    "    print(f\"Top 5 rekomendasi untuk User {user_id}: Model BiasedMF\")\n",
    "    recommendations_df = []\n",
    "    for place_id, predicted_rating in user_recommendations:\n",
    "        place_name = data[data['item_id'] == place_id]['Nama_tempat_wisata'].values[0]\n",
    "        recommendations_df.append([place_id, place_name, predicted_rating])\n",
    "    \n",
    "    recommendations_df = pd.DataFrame(recommendations_df, columns=[\"Place ID\", \"Nama Tempat Wisata\", \"Predicted Rating\"])\n",
    "    print(recommendations_df)\n",
    "else:\n",
    "    print(f\"Tidak ada rekomendasi untuk user {user_id}.\")"
   ]
  }
 ],
 "metadata": {
  "kernelspec": {
   "display_name": "Python 3 (ipykernel)",
   "language": "python",
   "name": "python3"
  },
  "language_info": {
   "codemirror_mode": {
    "name": "ipython",
    "version": 3
   },
   "file_extension": ".py",
   "mimetype": "text/x-python",
   "name": "python",
   "nbconvert_exporter": "python",
   "pygments_lexer": "ipython3",
   "version": "3.9.12"
  }
 },
 "nbformat": 4,
 "nbformat_minor": 5
}
