{
  "nbformat": 4,
  "nbformat_minor": 0,
  "metadata": {
    "colab": {
      "provenance": []
    },
    "kernelspec": {
      "name": "python3",
      "display_name": "Python 3"
    },
    "language_info": {
      "name": "python"
    }
  },
  "cells": [
    {
      "cell_type": "code",
      "execution_count": 7,
      "metadata": {
        "id": "CYaDTta1RJup"
      },
      "outputs": [],
      "source": [
        "import numpy as np\n",
        "import pandas as pd\n",
        "from sklearn.metrics import mean_squared_error, mean_absolute_error\n",
        "from sklearn.neighbors import NearestNeighbors\n",
        "from sklearn.model_selection import train_test_split\n",
        "\n",
        "# Load dataset\n",
        "file_path = \"/content/sample_data/Tempat-Wisata-Toba-Preprocessing.csv\"\n",
        "df = pd.read_csv(file_path)"
      ]
    },
    {
      "cell_type": "code",
      "source": [
        "# Menghapus kolom yang tidak diperlukan\n",
        "df.drop(columns=['Unnamed: 0', 'Unnamed: 0.1'], inplace=True)\n",
        "\n",
        "# Menangani missing values pada kolom 'Reviews' dengan mengisi dengan string 'No Review'\n",
        "df['Reviews'].fillna('No Review', inplace=True)\n",
        "\n",
        "# Mengisi missing values pada kolom 'ReviewerId' dan 'Rating' dengan nilai rata-rata\n",
        "df['ReviewerId'].fillna(df['ReviewerId'].mean(), inplace=True)\n",
        "df['Rating'].fillna(df['Rating'].mean(), inplace=True)\n",
        "\n",
        "# Menghapus duplikat jika ada\n",
        "df.drop_duplicates(inplace=True)\n",
        "\n",
        "# Melakukan encoding untuk kolom 'Category' dan 'Nama_tempat_wisata'\n",
        "df['Category'] = df['Category'].astype('category').cat.codes\n",
        "df['Nama_tempat_wisata'] = df['Nama_tempat_wisata'].astype('category').cat.codes\n",
        "\n",
        "# Menampilkan informasi dataset setelah preprocessing\n",
        "print(df.info())\n",
        "\n",
        "# Menampilkan 5 baris pertama dari dataset yang sudah diproses\n",
        "print(df.head())\n"
      ],
      "metadata": {
        "colab": {
          "base_uri": "https://localhost:8080/"
        },
        "id": "eRn_l7XDRg3-",
        "outputId": "00189755-4106-4144-c6c3-3534f501d116"
      },
      "execution_count": 8,
      "outputs": [
        {
          "output_type": "stream",
          "name": "stdout",
          "text": [
            "<class 'pandas.core.frame.DataFrame'>\n",
            "Index: 43053 entries, 0 to 43225\n",
            "Data columns (total 7 columns):\n",
            " #   Column              Non-Null Count  Dtype  \n",
            "---  ------              --------------  -----  \n",
            " 0   address             43053 non-null  object \n",
            " 1   PlaceID             43053 non-null  int64  \n",
            " 2   Nama_tempat_wisata  43053 non-null  int8   \n",
            " 3   Category            43053 non-null  int8   \n",
            " 4   ReviewerId          43053 non-null  float64\n",
            " 5   Rating              43053 non-null  float64\n",
            " 6   Reviews             43053 non-null  object \n",
            "dtypes: float64(2), int64(1), int8(2), object(2)\n",
            "memory usage: 2.1+ MB\n",
            "None\n",
            "                                             address  PlaceID  \\\n",
            "0  Jl. Sibola Hotang, Sibola Hotangsas, Kec. Bali...        0   \n",
            "1  Jl. Sibola Hotang, Sibola Hotangsas, Kec. Bali...        0   \n",
            "2  Jl. Sibola Hotang, Sibola Hotangsas, Kec. Bali...        0   \n",
            "3  Jl. Sibola Hotang, Sibola Hotangsas, Kec. Bali...        0   \n",
            "4  Jl. Sibola Hotang, Sibola Hotangsas, Kec. Bali...        0   \n",
            "\n",
            "   Nama_tempat_wisata  Category    ReviewerId  Rating  \\\n",
            "0                  51         1  1.126030e+20     5.0   \n",
            "1                  51         1  1.119090e+20     5.0   \n",
            "2                  51         1  1.078860e+20     5.0   \n",
            "3                  51         1  1.130720e+20     5.0   \n",
            "4                  51         1  1.061730e+20     5.0   \n",
            "\n",
            "                         Reviews  \n",
            "0                      No Review  \n",
            "1                          bagus  \n",
            "2                      No Review  \n",
            "3             sangat menyenagkan  \n",
            "4  bebas foto dimana aja cuma 2k  \n"
          ]
        },
        {
          "output_type": "stream",
          "name": "stderr",
          "text": [
            "<ipython-input-8-e7006b2d49ab>:5: FutureWarning: A value is trying to be set on a copy of a DataFrame or Series through chained assignment using an inplace method.\n",
            "The behavior will change in pandas 3.0. This inplace method will never work because the intermediate object on which we are setting values always behaves as a copy.\n",
            "\n",
            "For example, when doing 'df[col].method(value, inplace=True)', try using 'df.method({col: value}, inplace=True)' or df[col] = df[col].method(value) instead, to perform the operation inplace on the original object.\n",
            "\n",
            "\n",
            "  df['Reviews'].fillna('No Review', inplace=True)\n",
            "<ipython-input-8-e7006b2d49ab>:8: FutureWarning: A value is trying to be set on a copy of a DataFrame or Series through chained assignment using an inplace method.\n",
            "The behavior will change in pandas 3.0. This inplace method will never work because the intermediate object on which we are setting values always behaves as a copy.\n",
            "\n",
            "For example, when doing 'df[col].method(value, inplace=True)', try using 'df.method({col: value}, inplace=True)' or df[col] = df[col].method(value) instead, to perform the operation inplace on the original object.\n",
            "\n",
            "\n",
            "  df['ReviewerId'].fillna(df['ReviewerId'].mean(), inplace=True)\n",
            "<ipython-input-8-e7006b2d49ab>:9: FutureWarning: A value is trying to be set on a copy of a DataFrame or Series through chained assignment using an inplace method.\n",
            "The behavior will change in pandas 3.0. This inplace method will never work because the intermediate object on which we are setting values always behaves as a copy.\n",
            "\n",
            "For example, when doing 'df[col].method(value, inplace=True)', try using 'df.method({col: value}, inplace=True)' or df[col] = df[col].method(value) instead, to perform the operation inplace on the original object.\n",
            "\n",
            "\n",
            "  df['Rating'].fillna(df['Rating'].mean(), inplace=True)\n"
          ]
        }
      ]
    },
    {
      "cell_type": "code",
      "source": [
        "# Split data into train (70%), validation (15%), and test (15%)\n",
        "train_data, test_data = train_test_split(df, test_size=0.3, random_state=42)\n",
        "val_data, test_data = train_test_split(test_data, test_size=0.5, random_state=42)\n",
        "\n",
        "print(f\"Train size: {len(train_data)}, Validation size: {len(val_data)}, Test size: {len(test_data)}\")\n"
      ],
      "metadata": {
        "colab": {
          "base_uri": "https://localhost:8080/"
        },
        "id": "9b1b8JviRhGc",
        "outputId": "905a39f4-5c28-4288-ed09-b227f1458c0a"
      },
      "execution_count": 9,
      "outputs": [
        {
          "output_type": "stream",
          "name": "stdout",
          "text": [
            "Train size: 30137, Validation size: 6458, Test size: 6458\n"
          ]
        }
      ]
    },
    {
      "cell_type": "code",
      "source": [
        "# Membuat item profile (contoh sederhana menggunakan kategori dan nama tempat wisata)\n",
        "# Menggunakan rata-rata rating untuk setiap item (tempat wisata)\n",
        "item_profiles = df.groupby('Nama_tempat_wisata').agg({'Rating': 'mean', 'Category': 'mean'}).reset_index()\n",
        "\n",
        "# Membuat user profile (berdasarkan rata-rata rating pengguna)\n",
        "# Untuk setiap pengguna, ambil rata-rata rating yang diberikan pada semua tempat wisata\n",
        "user_profiles = df.groupby('ReviewerId').agg({'Rating': 'mean'}).reset_index()\n",
        "\n",
        "# Menampilkan 5 baris pertama dari item_profiles dan user_profiles setelah preprocessing\n",
        "print(\"Item Profiles:\")\n",
        "print(item_profiles.head())\n",
        "\n",
        "print(\"\\nUser Profiles:\")\n",
        "print(user_profiles.head())\n"
      ],
      "metadata": {
        "colab": {
          "base_uri": "https://localhost:8080/"
        },
        "id": "Q3MND6fRRhSX",
        "outputId": "f2a00071-8d33-4c67-bc1e-35ef297f1386"
      },
      "execution_count": 10,
      "outputs": [
        {
          "output_type": "stream",
          "name": "stdout",
          "text": [
            "Item Profiles:\n",
            "   Nama_tempat_wisata    Rating  Category\n",
            "0                   0  4.332571       1.0\n",
            "1                   1  4.361607       6.0\n",
            "2                   2  4.487521       0.0\n",
            "3                   3  4.538682       0.0\n",
            "4                   4  4.360000       0.0\n",
            "\n",
            "User Profiles:\n",
            "     ReviewerId  Rating\n",
            "0  1.000010e+20     4.0\n",
            "1  1.000020e+20     5.0\n",
            "2  1.000030e+20     4.5\n",
            "3  1.000040e+20     5.0\n",
            "4  1.000050e+20     4.0\n"
          ]
        }
      ]
    },
    {
      "cell_type": "code",
      "source": [
        "# Menentukan user_id dan item_id yang benar dari dataset\n",
        "user_col = 'ReviewerId'  # Pastikan menggunakan ReviewerId yang ada pada dataset\n",
        "item_col = 'Nama_tempat_wisata'  # Pastikan menggunakan Nama_tempat_wisata sebagai item_id\n",
        "\n",
        "# Membuat matriks pengguna-item (User-Item Matrix)\n",
        "user_item_matrix = df.pivot_table(index=user_col, columns=item_col, values='Rating', aggfunc='mean')\n",
        "\n",
        "# Menangani missing values, bisa menggunakan imputation atau drop\n",
        "user_item_matrix = user_item_matrix.fillna(user_item_matrix.mean())\n",
        "\n",
        "# Menampilkan matriks pengguna-item setelah preprocessing\n",
        "print(\"User-Item Matrix:\")\n",
        "print(user_item_matrix.head())\n",
        "\n",
        "# Menyiapkan data untuk Collaborative Filtering dengan CNN\n",
        "# Melakukan reshaping untuk keperluan input CNN (conv2d memerlukan 2D array)\n",
        "X = user_item_matrix.values\n",
        "X = np.expand_dims(X, axis=-1)  # Menambahkan dimensi untuk input CNN\n"
      ],
      "metadata": {
        "colab": {
          "base_uri": "https://localhost:8080/"
        },
        "id": "WpL4a8zJRhb8",
        "outputId": "6ef036cf-80fc-4191-9ed4-55948a0eaa58"
      },
      "execution_count": 11,
      "outputs": [
        {
          "output_type": "stream",
          "name": "stdout",
          "text": [
            "User-Item Matrix:\n",
            "Nama_tempat_wisata       0         1         2         3     4         5    \\\n",
            "ReviewerId                                                                   \n",
            "1.000010e+20        4.326219  4.365471  4.491817  4.543258  4.36  4.833333   \n",
            "1.000020e+20        4.326219  4.365471  4.491817  4.543258  4.36  4.833333   \n",
            "1.000030e+20        4.326219  4.365471  4.491817  4.543258  4.36  4.833333   \n",
            "1.000040e+20        4.326219  4.365471  4.491817  4.543258  4.36  4.833333   \n",
            "1.000050e+20        4.326219  4.365471  4.491817  4.543258  4.36  4.833333   \n",
            "\n",
            "Nama_tempat_wisata       6         7    8         9    ...       92   \\\n",
            "ReviewerId                                             ...             \n",
            "1.000010e+20        4.757576  4.638952  4.5  4.133333  ...  4.597826   \n",
            "1.000020e+20        4.757576  4.638952  4.5  4.133333  ...  4.597826   \n",
            "1.000030e+20        4.757576  4.638952  4.5  4.133333  ...  4.597826   \n",
            "1.000040e+20        4.757576  4.638952  4.5  4.133333  ...  4.597826   \n",
            "1.000050e+20        4.757576  4.638952  4.5  4.133333  ...  4.597826   \n",
            "\n",
            "Nama_tempat_wisata       93       94        95       96        97        98   \\\n",
            "ReviewerId                                                                     \n",
            "1.000010e+20        4.422907  4.52173  4.510345  4.37931  4.543228  4.255725   \n",
            "1.000020e+20        4.422907  4.52173  4.510345  4.37931  4.543228  4.255725   \n",
            "1.000030e+20        4.422907  4.52173  4.510345  4.37931  4.543228  4.255725   \n",
            "1.000040e+20        4.422907  4.52173  4.510345  4.37931  4.543228  4.255725   \n",
            "1.000050e+20        4.422907  4.00000  4.510345  4.37931  4.543228  4.255725   \n",
            "\n",
            "Nama_tempat_wisata  99        100       101  \n",
            "ReviewerId                                   \n",
            "1.000010e+20        5.0  4.440506  4.585859  \n",
            "1.000020e+20        5.0  4.440506  4.585859  \n",
            "1.000030e+20        5.0  4.440506  4.585859  \n",
            "1.000040e+20        5.0  4.440506  4.585859  \n",
            "1.000050e+20        5.0  4.440506  4.585859  \n",
            "\n",
            "[5 rows x 102 columns]\n"
          ]
        }
      ]
    },
    {
      "cell_type": "code",
      "source": [
        "# Membentuk matriks pengguna-item hanya dari data numerik\n",
        "user_item_matrix = df.pivot_table(index='ReviewerId', columns='Nama_tempat_wisata', values='Rating', aggfunc='mean')\n",
        "\n",
        "# Menangani missing values dengan mean (rata-rata) dari setiap kolom\n",
        "user_item_matrix = user_item_matrix.fillna(user_item_matrix.mean())\n",
        "\n",
        "# Konversi ke array numpy\n",
        "X = user_item_matrix.values\n",
        "\n",
        "# Memisahkan data menjadi train, validation, dan test\n",
        "X_train, X_test = train_test_split(X, test_size=0.3, random_state=42)\n",
        "\n",
        "# Menambahkan dimensi untuk input CNN (channel terakhir adalah 1)\n",
        "X_train_reshaped = np.expand_dims(np.expand_dims(X_train, axis=-1), axis=-1).astype('float32')\n",
        "X_test_reshaped = np.expand_dims(np.expand_dims(X_test, axis=-1), axis=-1).astype('float32')\n",
        "\n",
        "# Periksa bentuk data setelah direshaped\n",
        "print(f\"Shape of X_train_reshaped: {X_train_reshaped.shape}\")\n",
        "print(f\"Shape of X_test_reshaped: {X_test_reshaped.shape}\")\n",
        "\n",
        "# Memastikan bahwa input shape sesuai dengan model\n",
        "input_shape = X_train_reshaped.shape[1:]  # Hanya dimensi selain batch size\n",
        "print(f\"Input shape for CNN: {input_shape}\")\n",
        "\n",
        "# Membuat model CNN\n",
        "from tensorflow.keras.models import Sequential\n",
        "from tensorflow.keras.layers import Input, Conv2D, Flatten, Dense, Dropout\n",
        "from tensorflow.keras.optimizers import Adam\n",
        "\n",
        "model = Sequential()\n",
        "model.add(Input(shape=input_shape))  # Input dinamis sesuai data\n",
        "model.add(Conv2D(32, (1, 1), activation='relu'))\n",
        "model.add(Dropout(0.3))\n",
        "model.add(Conv2D(64, (1, 1), activation='relu'))\n",
        "model.add(Dropout(0.3))\n",
        "model.add(Flatten())\n",
        "model.add(Dense(128, activation='relu'))\n",
        "model.add(Dropout(0.3))\n",
        "model.add(Dense(1, activation='linear'))\n",
        "\n",
        "# Compile model\n",
        "model.compile(optimizer=Adam(), loss='mean_squared_error', metrics=['mean_absolute_error'])\n",
        "model.summary()\n",
        "\n",
        "# Melatih model\n",
        "history = model.fit(\n",
        "    X_train_reshaped, X_train_reshaped,\n",
        "    epochs=10,\n",
        "    batch_size=32,\n",
        "    validation_data=(X_test_reshaped, X_test_reshaped),\n",
        "    verbose=1\n",
        ")\n",
        "\n",
        "# Simpan model\n",
        "model.save('collaborative_filtering_cnn_model_fixed.h5')\n",
        "\n",
        "# Evaluasi model\n",
        "val_loss, val_mae = model.evaluate(X_test_reshaped, X_test_reshaped, verbose=0)\n",
        "print(f'Validation Loss: {val_loss}')\n",
        "print(f'Validation MAE: {val_mae}')\n"
      ],
      "metadata": {
        "colab": {
          "base_uri": "https://localhost:8080/",
          "height": 856
        },
        "id": "R5FXK5AiRhnk",
        "outputId": "fada1239-862a-4d99-ea66-6aa6f3a20e82"
      },
      "execution_count": 20,
      "outputs": [
        {
          "output_type": "stream",
          "name": "stdout",
          "text": [
            "Shape of X_train_reshaped: (10508, 102, 1, 1)\n",
            "Shape of X_test_reshaped: (4504, 102, 1, 1)\n",
            "Input shape for CNN: (102, 1, 1)\n"
          ]
        },
        {
          "output_type": "display_data",
          "data": {
            "text/plain": [
              "\u001b[1mModel: \"sequential_6\"\u001b[0m\n"
            ],
            "text/html": [
              "<pre style=\"white-space:pre;overflow-x:auto;line-height:normal;font-family:Menlo,'DejaVu Sans Mono',consolas,'Courier New',monospace\"><span style=\"font-weight: bold\">Model: \"sequential_6\"</span>\n",
              "</pre>\n"
            ]
          },
          "metadata": {}
        },
        {
          "output_type": "display_data",
          "data": {
            "text/plain": [
              "┏━━━━━━━━━━━━━━━━━━━━━━━━━━━━━━━━━━━━━━┳━━━━━━━━━━━━━━━━━━━━━━━━━━━━━┳━━━━━━━━━━━━━━━━━┓\n",
              "┃\u001b[1m \u001b[0m\u001b[1mLayer (type)                        \u001b[0m\u001b[1m \u001b[0m┃\u001b[1m \u001b[0m\u001b[1mOutput Shape               \u001b[0m\u001b[1m \u001b[0m┃\u001b[1m \u001b[0m\u001b[1m        Param #\u001b[0m\u001b[1m \u001b[0m┃\n",
              "┡━━━━━━━━━━━━━━━━━━━━━━━━━━━━━━━━━━━━━━╇━━━━━━━━━━━━━━━━━━━━━━━━━━━━━╇━━━━━━━━━━━━━━━━━┩\n",
              "│ conv2d_12 (\u001b[38;5;33mConv2D\u001b[0m)                   │ (\u001b[38;5;45mNone\u001b[0m, \u001b[38;5;34m102\u001b[0m, \u001b[38;5;34m1\u001b[0m, \u001b[38;5;34m32\u001b[0m)          │              \u001b[38;5;34m64\u001b[0m │\n",
              "├──────────────────────────────────────┼─────────────────────────────┼─────────────────┤\n",
              "│ dropout_18 (\u001b[38;5;33mDropout\u001b[0m)                 │ (\u001b[38;5;45mNone\u001b[0m, \u001b[38;5;34m102\u001b[0m, \u001b[38;5;34m1\u001b[0m, \u001b[38;5;34m32\u001b[0m)          │               \u001b[38;5;34m0\u001b[0m │\n",
              "├──────────────────────────────────────┼─────────────────────────────┼─────────────────┤\n",
              "│ conv2d_13 (\u001b[38;5;33mConv2D\u001b[0m)                   │ (\u001b[38;5;45mNone\u001b[0m, \u001b[38;5;34m102\u001b[0m, \u001b[38;5;34m1\u001b[0m, \u001b[38;5;34m64\u001b[0m)          │           \u001b[38;5;34m2,112\u001b[0m │\n",
              "├──────────────────────────────────────┼─────────────────────────────┼─────────────────┤\n",
              "│ dropout_19 (\u001b[38;5;33mDropout\u001b[0m)                 │ (\u001b[38;5;45mNone\u001b[0m, \u001b[38;5;34m102\u001b[0m, \u001b[38;5;34m1\u001b[0m, \u001b[38;5;34m64\u001b[0m)          │               \u001b[38;5;34m0\u001b[0m │\n",
              "├──────────────────────────────────────┼─────────────────────────────┼─────────────────┤\n",
              "│ flatten_6 (\u001b[38;5;33mFlatten\u001b[0m)                  │ (\u001b[38;5;45mNone\u001b[0m, \u001b[38;5;34m6528\u001b[0m)                │               \u001b[38;5;34m0\u001b[0m │\n",
              "├──────────────────────────────────────┼─────────────────────────────┼─────────────────┤\n",
              "│ dense_12 (\u001b[38;5;33mDense\u001b[0m)                     │ (\u001b[38;5;45mNone\u001b[0m, \u001b[38;5;34m128\u001b[0m)                 │         \u001b[38;5;34m835,712\u001b[0m │\n",
              "├──────────────────────────────────────┼─────────────────────────────┼─────────────────┤\n",
              "│ dropout_20 (\u001b[38;5;33mDropout\u001b[0m)                 │ (\u001b[38;5;45mNone\u001b[0m, \u001b[38;5;34m128\u001b[0m)                 │               \u001b[38;5;34m0\u001b[0m │\n",
              "├──────────────────────────────────────┼─────────────────────────────┼─────────────────┤\n",
              "│ dense_13 (\u001b[38;5;33mDense\u001b[0m)                     │ (\u001b[38;5;45mNone\u001b[0m, \u001b[38;5;34m1\u001b[0m)                   │             \u001b[38;5;34m129\u001b[0m │\n",
              "└──────────────────────────────────────┴─────────────────────────────┴─────────────────┘\n"
            ],
            "text/html": [
              "<pre style=\"white-space:pre;overflow-x:auto;line-height:normal;font-family:Menlo,'DejaVu Sans Mono',consolas,'Courier New',monospace\">┏━━━━━━━━━━━━━━━━━━━━━━━━━━━━━━━━━━━━━━┳━━━━━━━━━━━━━━━━━━━━━━━━━━━━━┳━━━━━━━━━━━━━━━━━┓\n",
              "┃<span style=\"font-weight: bold\"> Layer (type)                         </span>┃<span style=\"font-weight: bold\"> Output Shape                </span>┃<span style=\"font-weight: bold\">         Param # </span>┃\n",
              "┡━━━━━━━━━━━━━━━━━━━━━━━━━━━━━━━━━━━━━━╇━━━━━━━━━━━━━━━━━━━━━━━━━━━━━╇━━━━━━━━━━━━━━━━━┩\n",
              "│ conv2d_12 (<span style=\"color: #0087ff; text-decoration-color: #0087ff\">Conv2D</span>)                   │ (<span style=\"color: #00d7ff; text-decoration-color: #00d7ff\">None</span>, <span style=\"color: #00af00; text-decoration-color: #00af00\">102</span>, <span style=\"color: #00af00; text-decoration-color: #00af00\">1</span>, <span style=\"color: #00af00; text-decoration-color: #00af00\">32</span>)          │              <span style=\"color: #00af00; text-decoration-color: #00af00\">64</span> │\n",
              "├──────────────────────────────────────┼─────────────────────────────┼─────────────────┤\n",
              "│ dropout_18 (<span style=\"color: #0087ff; text-decoration-color: #0087ff\">Dropout</span>)                 │ (<span style=\"color: #00d7ff; text-decoration-color: #00d7ff\">None</span>, <span style=\"color: #00af00; text-decoration-color: #00af00\">102</span>, <span style=\"color: #00af00; text-decoration-color: #00af00\">1</span>, <span style=\"color: #00af00; text-decoration-color: #00af00\">32</span>)          │               <span style=\"color: #00af00; text-decoration-color: #00af00\">0</span> │\n",
              "├──────────────────────────────────────┼─────────────────────────────┼─────────────────┤\n",
              "│ conv2d_13 (<span style=\"color: #0087ff; text-decoration-color: #0087ff\">Conv2D</span>)                   │ (<span style=\"color: #00d7ff; text-decoration-color: #00d7ff\">None</span>, <span style=\"color: #00af00; text-decoration-color: #00af00\">102</span>, <span style=\"color: #00af00; text-decoration-color: #00af00\">1</span>, <span style=\"color: #00af00; text-decoration-color: #00af00\">64</span>)          │           <span style=\"color: #00af00; text-decoration-color: #00af00\">2,112</span> │\n",
              "├──────────────────────────────────────┼─────────────────────────────┼─────────────────┤\n",
              "│ dropout_19 (<span style=\"color: #0087ff; text-decoration-color: #0087ff\">Dropout</span>)                 │ (<span style=\"color: #00d7ff; text-decoration-color: #00d7ff\">None</span>, <span style=\"color: #00af00; text-decoration-color: #00af00\">102</span>, <span style=\"color: #00af00; text-decoration-color: #00af00\">1</span>, <span style=\"color: #00af00; text-decoration-color: #00af00\">64</span>)          │               <span style=\"color: #00af00; text-decoration-color: #00af00\">0</span> │\n",
              "├──────────────────────────────────────┼─────────────────────────────┼─────────────────┤\n",
              "│ flatten_6 (<span style=\"color: #0087ff; text-decoration-color: #0087ff\">Flatten</span>)                  │ (<span style=\"color: #00d7ff; text-decoration-color: #00d7ff\">None</span>, <span style=\"color: #00af00; text-decoration-color: #00af00\">6528</span>)                │               <span style=\"color: #00af00; text-decoration-color: #00af00\">0</span> │\n",
              "├──────────────────────────────────────┼─────────────────────────────┼─────────────────┤\n",
              "│ dense_12 (<span style=\"color: #0087ff; text-decoration-color: #0087ff\">Dense</span>)                     │ (<span style=\"color: #00d7ff; text-decoration-color: #00d7ff\">None</span>, <span style=\"color: #00af00; text-decoration-color: #00af00\">128</span>)                 │         <span style=\"color: #00af00; text-decoration-color: #00af00\">835,712</span> │\n",
              "├──────────────────────────────────────┼─────────────────────────────┼─────────────────┤\n",
              "│ dropout_20 (<span style=\"color: #0087ff; text-decoration-color: #0087ff\">Dropout</span>)                 │ (<span style=\"color: #00d7ff; text-decoration-color: #00d7ff\">None</span>, <span style=\"color: #00af00; text-decoration-color: #00af00\">128</span>)                 │               <span style=\"color: #00af00; text-decoration-color: #00af00\">0</span> │\n",
              "├──────────────────────────────────────┼─────────────────────────────┼─────────────────┤\n",
              "│ dense_13 (<span style=\"color: #0087ff; text-decoration-color: #0087ff\">Dense</span>)                     │ (<span style=\"color: #00d7ff; text-decoration-color: #00d7ff\">None</span>, <span style=\"color: #00af00; text-decoration-color: #00af00\">1</span>)                   │             <span style=\"color: #00af00; text-decoration-color: #00af00\">129</span> │\n",
              "└──────────────────────────────────────┴─────────────────────────────┴─────────────────┘\n",
              "</pre>\n"
            ]
          },
          "metadata": {}
        },
        {
          "output_type": "display_data",
          "data": {
            "text/plain": [
              "\u001b[1m Total params: \u001b[0m\u001b[38;5;34m838,017\u001b[0m (3.20 MB)\n"
            ],
            "text/html": [
              "<pre style=\"white-space:pre;overflow-x:auto;line-height:normal;font-family:Menlo,'DejaVu Sans Mono',consolas,'Courier New',monospace\"><span style=\"font-weight: bold\"> Total params: </span><span style=\"color: #00af00; text-decoration-color: #00af00\">838,017</span> (3.20 MB)\n",
              "</pre>\n"
            ]
          },
          "metadata": {}
        },
        {
          "output_type": "display_data",
          "data": {
            "text/plain": [
              "\u001b[1m Trainable params: \u001b[0m\u001b[38;5;34m838,017\u001b[0m (3.20 MB)\n"
            ],
            "text/html": [
              "<pre style=\"white-space:pre;overflow-x:auto;line-height:normal;font-family:Menlo,'DejaVu Sans Mono',consolas,'Courier New',monospace\"><span style=\"font-weight: bold\"> Trainable params: </span><span style=\"color: #00af00; text-decoration-color: #00af00\">838,017</span> (3.20 MB)\n",
              "</pre>\n"
            ]
          },
          "metadata": {}
        },
        {
          "output_type": "display_data",
          "data": {
            "text/plain": [
              "\u001b[1m Non-trainable params: \u001b[0m\u001b[38;5;34m0\u001b[0m (0.00 B)\n"
            ],
            "text/html": [
              "<pre style=\"white-space:pre;overflow-x:auto;line-height:normal;font-family:Menlo,'DejaVu Sans Mono',consolas,'Courier New',monospace\"><span style=\"font-weight: bold\"> Non-trainable params: </span><span style=\"color: #00af00; text-decoration-color: #00af00\">0</span> (0.00 B)\n",
              "</pre>\n"
            ]
          },
          "metadata": {}
        },
        {
          "output_type": "stream",
          "name": "stdout",
          "text": [
            "Epoch 1/10\n",
            "\u001b[1m329/329\u001b[0m \u001b[32m━━━━━━━━━━━━━━━━━━━━\u001b[0m\u001b[37m\u001b[0m \u001b[1m9s\u001b[0m 22ms/step - loss: 8.5313 - mean_absolute_error: 1.9897 - val_loss: 1.0540 - val_mean_absolute_error: 1.0010\n",
            "Epoch 2/10\n",
            "\u001b[1m329/329\u001b[0m \u001b[32m━━━━━━━━━━━━━━━━━━━━\u001b[0m\u001b[37m\u001b[0m \u001b[1m12s\u001b[0m 27ms/step - loss: 1.6579 - mean_absolute_error: 1.0263 - val_loss: 1.9042 - val_mean_absolute_error: 1.3606\n",
            "Epoch 3/10\n",
            "\u001b[1m329/329\u001b[0m \u001b[32m━━━━━━━━━━━━━━━━━━━━\u001b[0m\u001b[37m\u001b[0m \u001b[1m9s\u001b[0m 26ms/step - loss: 1.5869 - mean_absolute_error: 0.9996 - val_loss: 1.4879 - val_mean_absolute_error: 1.1982\n",
            "Epoch 4/10\n",
            "\u001b[1m329/329\u001b[0m \u001b[32m━━━━━━━━━━━━━━━━━━━━\u001b[0m\u001b[37m\u001b[0m \u001b[1m9s\u001b[0m 22ms/step - loss: 1.4701 - mean_absolute_error: 0.9668 - val_loss: 1.4095 - val_mean_absolute_error: 1.1651\n",
            "Epoch 5/10\n",
            "\u001b[1m329/329\u001b[0m \u001b[32m━━━━━━━━━━━━━━━━━━━━\u001b[0m\u001b[37m\u001b[0m \u001b[1m9s\u001b[0m 26ms/step - loss: 1.3086 - mean_absolute_error: 0.9114 - val_loss: 1.3220 - val_mean_absolute_error: 1.1270\n",
            "Epoch 6/10\n",
            "\u001b[1m329/329\u001b[0m \u001b[32m━━━━━━━━━━━━━━━━━━━━\u001b[0m\u001b[37m\u001b[0m \u001b[1m7s\u001b[0m 22ms/step - loss: 1.2387 - mean_absolute_error: 0.8876 - val_loss: 1.0036 - val_mean_absolute_error: 0.9755\n",
            "Epoch 7/10\n",
            "\u001b[1m329/329\u001b[0m \u001b[32m━━━━━━━━━━━━━━━━━━━━\u001b[0m\u001b[37m\u001b[0m \u001b[1m9s\u001b[0m 26ms/step - loss: 1.1187 - mean_absolute_error: 0.8451 - val_loss: 1.2484 - val_mean_absolute_error: 1.0939\n",
            "Epoch 8/10\n",
            "\u001b[1m329/329\u001b[0m \u001b[32m━━━━━━━━━━━━━━━━━━━━\u001b[0m\u001b[37m\u001b[0m \u001b[1m8s\u001b[0m 25ms/step - loss: 0.9730 - mean_absolute_error: 0.7857 - val_loss: 1.1808 - val_mean_absolute_error: 1.0625\n",
            "Epoch 9/10\n",
            "\u001b[1m329/329\u001b[0m \u001b[32m━━━━━━━━━━━━━━━━━━━━\u001b[0m\u001b[37m\u001b[0m \u001b[1m9s\u001b[0m 22ms/step - loss: 0.8682 - mean_absolute_error: 0.7431 - val_loss: 1.3778 - val_mean_absolute_error: 1.1515\n",
            "Epoch 10/10\n",
            "\u001b[1m329/329\u001b[0m \u001b[32m━━━━━━━━━━━━━━━━━━━━\u001b[0m\u001b[37m\u001b[0m \u001b[1m10s\u001b[0m 22ms/step - loss: 0.7815 - mean_absolute_error: 0.7015 - val_loss: 0.7338 - val_mean_absolute_error: 0.8253\n"
          ]
        },
        {
          "output_type": "stream",
          "name": "stderr",
          "text": [
            "WARNING:absl:You are saving your model as an HDF5 file via `model.save()` or `keras.saving.save_model(model)`. This file format is considered legacy. We recommend using instead the native Keras format, e.g. `model.save('my_model.keras')` or `keras.saving.save_model(model, 'my_model.keras')`. \n"
          ]
        },
        {
          "output_type": "stream",
          "name": "stdout",
          "text": [
            "Validation Loss: 0.7338399887084961\n",
            "Validation MAE: 0.8253255486488342\n"
          ]
        }
      ]
    },
    {
      "cell_type": "code",
      "source": [
        "# Hasil dan Visualisasi\n",
        "\n",
        "import matplotlib.pyplot as plt\n",
        "\n",
        "# Plotting training and validation loss\n",
        "plt.plot(history.history['loss'], label='Training Loss')\n",
        "plt.plot(history.history['val_loss'], label='Validation Loss')\n",
        "plt.xlabel('Epoch')\n",
        "plt.ylabel('Loss')\n",
        "plt.title('Training vs Validation Loss')\n",
        "plt.legend()\n",
        "plt.show()\n"
      ],
      "metadata": {
        "colab": {
          "base_uri": "https://localhost:8080/",
          "height": 472
        },
        "id": "OPrSSdGSRhxZ",
        "outputId": "b266ecc0-27d9-43a5-aba3-7ec76d4b4c62"
      },
      "execution_count": 22,
      "outputs": [
        {
          "output_type": "display_data",
          "data": {
            "text/plain": [
              "<Figure size 640x480 with 1 Axes>"
            ],
            "image/png": "[encoded data removed]"
          },
          "metadata": {}
        }
      ]
    },
    {
      "cell_type": "code",
      "source": [],
      "metadata": {
        "id": "HqtMEf7FRh70"
      },
      "execution_count": 23,
      "outputs": []
    },
    {
      "cell_type": "code",
      "source": [],
      "metadata": {
        "id": "UvFIN7nisUYI"
      },
      "execution_count": 21,
      "outputs": []
    },
    {
      "cell_type": "code",
      "source": [],
      "metadata": {
        "id": "BXO6YmKThjog"
      },
      "execution_count": null,
      "outputs": []
    },
    {
      "cell_type": "code",
      "source": [],
      "metadata": {
        "id": "0WTyl7Y3hj2_"
      },
      "execution_count": null,
      "outputs": []
    },
    {
      "cell_type": "code",
      "source": [],
      "metadata": {
        "id": "RWwDcLWThkEh"
      },
      "execution_count": null,
      "outputs": []
    }
  ]
}