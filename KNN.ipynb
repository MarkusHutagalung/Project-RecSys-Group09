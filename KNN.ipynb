{
 "cells": [
  {
   "cell_type": "markdown",
   "id": "1e22bccb",
   "metadata": {},
   "source": [
    "# Baseline Model (CF) - K-Nearest Neighbour (KNN)"
   ]
  },
  {
   "cell_type": "code",
   "execution_count": 31,
   "id": "ab34723a",
   "metadata": {},
   "outputs": [],
   "source": [
    "import pandas as pd\n",
    "import numpy as np\n",
    "from surprise import KNNBasic, Dataset, Reader, accuracy\n",
    "from surprise.model_selection import GridSearchCV \n",
    "from surprise.model_selection import train_test_split\n",
    "import matplotlib.pyplot as plt"
   ]
  },
  {
   "cell_type": "markdown",
   "id": "7fe40aff",
   "metadata": {},
   "source": [
    "## Load Data"
   ]
  },
  {
   "cell_type": "code",
   "execution_count": 9,
   "id": "7667d416",
   "metadata": {},
   "outputs": [],
   "source": [
    "data = pd.read_csv(\"data/Tempat-Wisata-Toba-Preprocessing.csv\")"
   ]
  },
  {
   "cell_type": "code",
   "execution_count": 10,
   "id": "b4accb5b",
   "metadata": {},
   "outputs": [
    {
     "data": {
      "text/plain": [
       "Index(['Unnamed: 0.1', 'Unnamed: 0', 'address', 'PlaceID',\n",
       "       'Nama_tempat_wisata', 'Category', 'ReviewerId', 'Rating', 'Reviews'],\n",
       "      dtype='object')"
      ]
     },
     "execution_count": 10,
     "metadata": {},
     "output_type": "execute_result"
    }
   ],
   "source": [
    "data.columns"
   ]
  },
  {
   "cell_type": "code",
   "execution_count": 11,
   "id": "ef67a4d9",
   "metadata": {},
   "outputs": [
    {
     "data": {
      "text/html": [
       "<div>\n",
       "<style scoped>\n",
       "    .dataframe tbody tr th:only-of-type {\n",
       "        vertical-align: middle;\n",
       "    }\n",
       "\n",
       "    .dataframe tbody tr th {\n",
       "        vertical-align: top;\n",
       "    }\n",
       "\n",
       "    .dataframe thead th {\n",
       "        text-align: right;\n",
       "    }\n",
       "</style>\n",
       "<table border=\"1\" class=\"dataframe\">\n",
       "  <thead>\n",
       "    <tr style=\"text-align: right;\">\n",
       "      <th></th>\n",
       "      <th>Unnamed: 0.1</th>\n",
       "      <th>Unnamed: 0</th>\n",
       "      <th>address</th>\n",
       "      <th>item_id</th>\n",
       "      <th>Nama_tempat_wisata</th>\n",
       "      <th>Category</th>\n",
       "      <th>user_id</th>\n",
       "      <th>rating</th>\n",
       "      <th>Reviews</th>\n",
       "    </tr>\n",
       "  </thead>\n",
       "  <tbody>\n",
       "    <tr>\n",
       "      <th>1</th>\n",
       "      <td>1</td>\n",
       "      <td>1</td>\n",
       "      <td>Jl. Sibola Hotang, Sibola Hotangsas, Kec. Bali...</td>\n",
       "      <td>0</td>\n",
       "      <td>PASIR PUTIH LUMBAN BULBUL</td>\n",
       "      <td>Wisata Bahari</td>\n",
       "      <td>1.119090e+20</td>\n",
       "      <td>5.0</td>\n",
       "      <td>bagus</td>\n",
       "    </tr>\n",
       "    <tr>\n",
       "      <th>3</th>\n",
       "      <td>3</td>\n",
       "      <td>3</td>\n",
       "      <td>Jl. Sibola Hotang, Sibola Hotangsas, Kec. Bali...</td>\n",
       "      <td>0</td>\n",
       "      <td>PASIR PUTIH LUMBAN BULBUL</td>\n",
       "      <td>Wisata Bahari</td>\n",
       "      <td>1.130720e+20</td>\n",
       "      <td>5.0</td>\n",
       "      <td>sangat menyenagkan</td>\n",
       "    </tr>\n",
       "    <tr>\n",
       "      <th>4</th>\n",
       "      <td>4</td>\n",
       "      <td>4</td>\n",
       "      <td>Jl. Sibola Hotang, Sibola Hotangsas, Kec. Bali...</td>\n",
       "      <td>0</td>\n",
       "      <td>PASIR PUTIH LUMBAN BULBUL</td>\n",
       "      <td>Wisata Bahari</td>\n",
       "      <td>1.061730e+20</td>\n",
       "      <td>5.0</td>\n",
       "      <td>bebas foto dimana aja cuma 2k</td>\n",
       "    </tr>\n",
       "    <tr>\n",
       "      <th>6</th>\n",
       "      <td>6</td>\n",
       "      <td>6</td>\n",
       "      <td>Jl. Sibola Hotang, Sibola Hotangsas, Kec. Bali...</td>\n",
       "      <td>0</td>\n",
       "      <td>PASIR PUTIH LUMBAN BULBUL</td>\n",
       "      <td>Wisata Bahari</td>\n",
       "      <td>1.142390e+20</td>\n",
       "      <td>5.0</td>\n",
       "      <td>amazing pengen kesini lagi</td>\n",
       "    </tr>\n",
       "    <tr>\n",
       "      <th>8</th>\n",
       "      <td>8</td>\n",
       "      <td>8</td>\n",
       "      <td>Jl. Sibola Hotang, Sibola Hotangsas, Kec. Bali...</td>\n",
       "      <td>0</td>\n",
       "      <td>PASIR PUTIH LUMBAN BULBUL</td>\n",
       "      <td>Wisata Bahari</td>\n",
       "      <td>1.047430e+20</td>\n",
       "      <td>3.0</td>\n",
       "      <td>jalan menuju lokasi perlu diperhatikan oleh pe...</td>\n",
       "    </tr>\n",
       "  </tbody>\n",
       "</table>\n",
       "</div>"
      ],
      "text/plain": [
       "   Unnamed: 0.1  Unnamed: 0  \\\n",
       "1             1           1   \n",
       "3             3           3   \n",
       "4             4           4   \n",
       "6             6           6   \n",
       "8             8           8   \n",
       "\n",
       "                                             address  item_id  \\\n",
       "1  Jl. Sibola Hotang, Sibola Hotangsas, Kec. Bali...        0   \n",
       "3  Jl. Sibola Hotang, Sibola Hotangsas, Kec. Bali...        0   \n",
       "4  Jl. Sibola Hotang, Sibola Hotangsas, Kec. Bali...        0   \n",
       "6  Jl. Sibola Hotang, Sibola Hotangsas, Kec. Bali...        0   \n",
       "8  Jl. Sibola Hotang, Sibola Hotangsas, Kec. Bali...        0   \n",
       "\n",
       "          Nama_tempat_wisata       Category       user_id  rating  \\\n",
       "1  PASIR PUTIH LUMBAN BULBUL  Wisata Bahari  1.119090e+20     5.0   \n",
       "3  PASIR PUTIH LUMBAN BULBUL  Wisata Bahari  1.130720e+20     5.0   \n",
       "4  PASIR PUTIH LUMBAN BULBUL  Wisata Bahari  1.061730e+20     5.0   \n",
       "6  PASIR PUTIH LUMBAN BULBUL  Wisata Bahari  1.142390e+20     5.0   \n",
       "8  PASIR PUTIH LUMBAN BULBUL  Wisata Bahari  1.047430e+20     3.0   \n",
       "\n",
       "                                             Reviews  \n",
       "1                                              bagus  \n",
       "3                                 sangat menyenagkan  \n",
       "4                      bebas foto dimana aja cuma 2k  \n",
       "6                         amazing pengen kesini lagi  \n",
       "8  jalan menuju lokasi perlu diperhatikan oleh pe...  "
      ]
     },
     "execution_count": 11,
     "metadata": {},
     "output_type": "execute_result"
    }
   ],
   "source": [
    "data = data.rename(columns={'ReviewerId': 'user_id', 'PlaceID': 'item_id', 'Rating': 'rating'})\n",
    "data['rating'] = data['rating'].astype(float)\n",
    "data.dropna(inplace=True)\n",
    "data.head()"
   ]
  },
  {
   "cell_type": "code",
   "execution_count": 12,
   "id": "6d0c9402",
   "metadata": {},
   "outputs": [
    {
     "data": {
      "text/html": [
       "<div>\n",
       "<style scoped>\n",
       "    .dataframe tbody tr th:only-of-type {\n",
       "        vertical-align: middle;\n",
       "    }\n",
       "\n",
       "    .dataframe tbody tr th {\n",
       "        vertical-align: top;\n",
       "    }\n",
       "\n",
       "    .dataframe thead th {\n",
       "        text-align: right;\n",
       "    }\n",
       "</style>\n",
       "<table border=\"1\" class=\"dataframe\">\n",
       "  <thead>\n",
       "    <tr style=\"text-align: right;\">\n",
       "      <th></th>\n",
       "      <th>item_id</th>\n",
       "      <th>Nama_tempat_wisata</th>\n",
       "      <th>user_id</th>\n",
       "      <th>rating</th>\n",
       "    </tr>\n",
       "  </thead>\n",
       "  <tbody>\n",
       "    <tr>\n",
       "      <th>1</th>\n",
       "      <td>0</td>\n",
       "      <td>PASIR PUTIH LUMBAN BULBUL</td>\n",
       "      <td>1.119090e+20</td>\n",
       "      <td>5.0</td>\n",
       "    </tr>\n",
       "    <tr>\n",
       "      <th>3</th>\n",
       "      <td>0</td>\n",
       "      <td>PASIR PUTIH LUMBAN BULBUL</td>\n",
       "      <td>1.130720e+20</td>\n",
       "      <td>5.0</td>\n",
       "    </tr>\n",
       "    <tr>\n",
       "      <th>4</th>\n",
       "      <td>0</td>\n",
       "      <td>PASIR PUTIH LUMBAN BULBUL</td>\n",
       "      <td>1.061730e+20</td>\n",
       "      <td>5.0</td>\n",
       "    </tr>\n",
       "    <tr>\n",
       "      <th>6</th>\n",
       "      <td>0</td>\n",
       "      <td>PASIR PUTIH LUMBAN BULBUL</td>\n",
       "      <td>1.142390e+20</td>\n",
       "      <td>5.0</td>\n",
       "    </tr>\n",
       "    <tr>\n",
       "      <th>8</th>\n",
       "      <td>0</td>\n",
       "      <td>PASIR PUTIH LUMBAN BULBUL</td>\n",
       "      <td>1.047430e+20</td>\n",
       "      <td>3.0</td>\n",
       "    </tr>\n",
       "  </tbody>\n",
       "</table>\n",
       "</div>"
      ],
      "text/plain": [
       "   item_id         Nama_tempat_wisata       user_id  rating\n",
       "1        0  PASIR PUTIH LUMBAN BULBUL  1.119090e+20     5.0\n",
       "3        0  PASIR PUTIH LUMBAN BULBUL  1.130720e+20     5.0\n",
       "4        0  PASIR PUTIH LUMBAN BULBUL  1.061730e+20     5.0\n",
       "6        0  PASIR PUTIH LUMBAN BULBUL  1.142390e+20     5.0\n",
       "8        0  PASIR PUTIH LUMBAN BULBUL  1.047430e+20     3.0"
      ]
     },
     "execution_count": 12,
     "metadata": {},
     "output_type": "execute_result"
    }
   ],
   "source": [
    "col_to_drop = ['Unnamed: 0.1', 'Unnamed: 0', 'address', 'Category', 'Reviews']\n",
    "data = data.drop(columns=col_to_drop)\n",
    "data.head()"
   ]
  },
  {
   "cell_type": "code",
   "execution_count": 13,
   "id": "6e6bdd14",
   "metadata": {},
   "outputs": [
    {
     "data": {
      "text/plain": [
       "(22166, 4)"
      ]
     },
     "execution_count": 13,
     "metadata": {},
     "output_type": "execute_result"
    }
   ],
   "source": [
    "data.shape"
   ]
  },
  {
   "cell_type": "code",
   "execution_count": 14,
   "id": "045ec2db",
   "metadata": {},
   "outputs": [],
   "source": [
    "# Define Reader object\n",
    "reader = Reader(rating_scale=(data['rating'].min(), data['rating'].max()))\n",
    "dataset = Dataset.load_from_df(data[['user_id', 'item_id', 'rating']], reader)"
   ]
  },
  {
   "cell_type": "markdown",
   "id": "8686ade2",
   "metadata": {},
   "source": [
    "## Split Data"
   ]
  },
  {
   "cell_type": "code",
   "execution_count": 33,
   "id": "4fffef3e",
   "metadata": {},
   "outputs": [],
   "source": [
    "# Split data into train (70%), validation (15%), and test (15%)\n",
    "trainset, testset = train_test_split(dataset, test_size=0.30)"
   ]
  },
  {
   "cell_type": "markdown",
   "id": "e7e84ff9",
   "metadata": {},
   "source": [
    "## Create User-Item Matrix"
   ]
  },
  {
   "cell_type": "code",
   "execution_count": 34,
   "id": "9db0581b",
   "metadata": {},
   "outputs": [
    {
     "name": "stdout",
     "output_type": "stream",
     "text": [
      "Train Matrix:\n",
      "item_id       0    1    2    3    4    5    6    8    9    10   ...  92   93   \\\n",
      "user_id                                                         ...             \n",
      "1.000030e+20  0.0  0.0  0.0  0.0  0.0  0.0  0.0  0.0  0.0  0.0  ...  0.0  0.0   \n",
      "1.000040e+20  0.0  0.0  0.0  0.0  0.0  0.0  0.0  0.0  0.0  0.0  ...  0.0  0.0   \n",
      "1.000090e+20  0.0  0.0  0.0  0.0  0.0  0.0  0.0  0.0  0.0  0.0  ...  0.0  0.0   \n",
      "1.000100e+20  0.0  0.0  0.0  0.0  0.0  0.0  0.0  0.0  0.0  0.0  ...  0.0  0.0   \n",
      "1.000120e+20  0.0  0.0  0.0  0.0  0.0  0.0  0.0  0.0  0.0  0.0  ...  0.0  0.0   \n",
      "...           ...  ...  ...  ...  ...  ...  ...  ...  ...  ...  ...  ...  ...   \n",
      "1.184390e+20  0.0  0.0  0.0  0.0  0.0  0.0  0.0  0.0  0.0  0.0  ...  5.0  0.0   \n",
      "1.184410e+20  0.0  0.0  0.0  0.0  0.0  0.0  0.0  0.0  0.0  0.0  ...  0.0  0.0   \n",
      "1.184430e+20  0.0  0.0  0.0  0.0  0.0  0.0  0.0  0.0  0.0  0.0  ...  0.0  5.0   \n",
      "1.184440e+20  0.0  0.0  0.0  0.0  0.0  0.0  0.0  0.0  0.0  0.0  ...  0.0  0.0   \n",
      "1.184460e+20  0.0  0.0  0.0  0.0  0.0  0.0  0.0  0.0  0.0  0.0  ...  0.0  0.0   \n",
      "\n",
      "item_id       94   95   96   97   98   99   100  101  \n",
      "user_id                                               \n",
      "1.000030e+20  0.0  0.0  0.0  0.0  4.0  0.0  0.0  0.0  \n",
      "1.000040e+20  0.0  0.0  0.0  0.0  0.0  0.0  0.0  0.0  \n",
      "1.000090e+20  5.0  0.0  0.0  0.0  0.0  5.0  0.0  0.0  \n",
      "1.000100e+20  0.0  0.0  0.0  0.0  0.0  0.0  0.0  5.0  \n",
      "1.000120e+20  0.0  5.0  0.0  0.0  0.0  0.0  0.0  0.0  \n",
      "...           ...  ...  ...  ...  ...  ...  ...  ...  \n",
      "1.184390e+20  0.0  0.0  0.0  0.0  0.0  0.0  0.0  0.0  \n",
      "1.184410e+20  0.0  0.0  5.0  0.0  0.0  0.0  0.0  0.0  \n",
      "1.184430e+20  0.0  0.0  0.0  0.0  0.0  0.0  0.0  0.0  \n",
      "1.184440e+20  0.0  0.0  0.0  0.0  0.0  0.0  0.0  5.0  \n",
      "1.184460e+20  0.0  0.0  0.0  0.0  0.0  0.0  0.0  0.0  \n",
      "\n",
      "[8888 rows x 101 columns]\n",
      "\n",
      "Validation Matrix:\n",
      "item_id       0    1    2    3    4    5    6    8    9    10   ...  92   93   \\\n",
      "user_id                                                         ...             \n",
      "1.000100e+20  0.0  0.0    0  0.0  0.0  0.0  0.0    0  0.0  0.0  ...  0.0  0.0   \n",
      "1.000160e+20  0.0  0.0    0  0.0  0.0  0.0  0.0    0  0.0  0.0  ...  0.0  0.0   \n",
      "1.000270e+20  0.0  0.0    0  0.0  0.0  0.0  0.0    0  0.0  0.0  ...  0.0  0.0   \n",
      "1.000280e+20  0.0  0.0    0  0.0  0.0  0.0  0.0    0  0.0  0.0  ...  0.0  4.0   \n",
      "1.000380e+20  0.0  0.0    0  0.0  0.0  0.0  0.0    0  0.0  0.0  ...  0.0  0.0   \n",
      "...           ...  ...  ...  ...  ...  ...  ...  ...  ...  ...  ...  ...  ...   \n",
      "1.184280e+20  0.0  0.0    0  0.0  0.0  0.0  0.0    0  0.0  0.0  ...  0.0  0.0   \n",
      "1.184330e+20  0.0  0.0    0  0.0  0.0  0.0  0.0    0  0.0  0.0  ...  0.0  0.0   \n",
      "1.184360e+20  0.0  0.0    0  0.0  0.0  0.0  0.0    0  0.0  0.0  ...  0.0  0.0   \n",
      "1.184430e+20  0.0  0.0    0  0.0  0.0  0.0  0.0    0  0.0  0.0  ...  0.0  0.0   \n",
      "1.184460e+20  0.0  0.0    0  0.0  0.0  0.0  0.0    0  0.0  0.0  ...  0.0  0.0   \n",
      "\n",
      "item_id       94   95   96   97   98   99   100  101  \n",
      "user_id                                               \n",
      "1.000100e+20  0.0  4.0  0.0  0.0  0.0  0.0  0.0  0.0  \n",
      "1.000160e+20  0.0  0.0  4.0  0.0  0.0  0.0  0.0  0.0  \n",
      "1.000270e+20  0.0  0.0  0.0  0.0  5.0  0.0  0.0  0.0  \n",
      "1.000280e+20  0.0  0.0  0.0  0.0  0.0  0.0  0.0  0.0  \n",
      "1.000380e+20  0.0  0.0  0.0  0.0  0.0  0.0  0.0  0.0  \n",
      "...           ...  ...  ...  ...  ...  ...  ...  ...  \n",
      "1.184280e+20  0.0  0.0  0.0  0.0  0.0  0.0  0.0  0.0  \n",
      "1.184330e+20  0.0  0.0  0.0  0.0  0.0  0.0  0.0  0.0  \n",
      "1.184360e+20  0.0  0.0  0.0  0.0  0.0  0.0  0.0  0.0  \n",
      "1.184430e+20  0.0  0.0  0.0  0.0  0.0  0.0  0.0  0.0  \n",
      "1.184460e+20  0.0  0.0  0.0  0.0  0.0  0.0  0.0  0.0  \n",
      "\n",
      "[2846 rows x 101 columns]\n",
      "\n",
      "Test Matrix:\n",
      "item_id       0    1    2    3    4    5    6    8    9    10   ...  92   93   \\\n",
      "user_id                                                         ...             \n",
      "1.000120e+20  0.0  0.0    0  0.0  0.0  0.0  0.0  0.0  0.0  0.0  ...  0.0  0.0   \n",
      "1.000300e+20  0.0  0.0    0  0.0  0.0  0.0  0.0  0.0  0.0  0.0  ...  0.0  5.0   \n",
      "1.000340e+20  0.0  0.0    0  0.0  0.0  0.0  0.0  0.0  0.0  0.0  ...  0.0  0.0   \n",
      "1.000370e+20  0.0  0.0    0  0.0  0.0  0.0  0.0  0.0  0.0  0.0  ...  0.0  0.0   \n",
      "1.000380e+20  0.0  0.0    0  0.0  0.0  0.0  0.0  0.0  0.0  0.0  ...  0.0  0.0   \n",
      "...           ...  ...  ...  ...  ...  ...  ...  ...  ...  ...  ...  ...  ...   \n",
      "1.184360e+20  0.0  0.0    0  0.0  0.0  0.0  0.0  0.0  0.0  0.0  ...  0.0  0.0   \n",
      "1.184390e+20  0.0  0.0    0  0.0  0.0  0.0  0.0  0.0  0.0  0.0  ...  0.0  0.0   \n",
      "1.184400e+20  0.0  0.0    0  0.0  0.0  0.0  0.0  0.0  0.0  0.0  ...  0.0  0.0   \n",
      "1.184410e+20  0.0  0.0    0  0.0  0.0  0.0  0.0  0.0  0.0  0.0  ...  0.0  0.0   \n",
      "1.184440e+20  0.0  0.0    0  0.0  0.0  0.0  0.0  0.0  0.0  0.0  ...  0.0  0.0   \n",
      "\n",
      "item_id       94   95   96   97   98   99   100  101  \n",
      "user_id                                               \n",
      "1.000120e+20  0.0  0.0  0.0  0.0  0.0  0.0  0.0  5.0  \n",
      "1.000300e+20  0.0  0.0  0.0  0.0  0.0  0.0  0.0  0.0  \n",
      "1.000340e+20  0.0  0.0  0.0  0.0  0.0  0.0  0.0  5.0  \n",
      "1.000370e+20  0.0  0.0  0.0  0.0  0.0  0.0  0.0  0.0  \n",
      "1.000380e+20  0.0  0.0  0.0  0.0  0.0  0.0  0.0  0.0  \n",
      "...           ...  ...  ...  ...  ...  ...  ...  ...  \n",
      "1.184360e+20  0.0  0.0  0.0  0.0  0.0  0.0  0.0  0.0  \n",
      "1.184390e+20  0.0  0.0  0.0  0.0  0.0  0.0  0.0  0.0  \n",
      "1.184400e+20  0.0  0.0  0.0  0.0  0.0  0.0  0.0  0.0  \n",
      "1.184410e+20  0.0  0.0  0.0  0.0  4.0  0.0  0.0  0.0  \n",
      "1.184440e+20  0.0  0.0  0.0  0.0  0.0  0.0  0.0  0.0  \n",
      "\n",
      "[2814 rows x 101 columns]\n"
     ]
    }
   ],
   "source": [
    "# Create user-item matrix\n",
    "def create_user_item_matrix(data, user_col='user_id', item_col='item_id', rating_col='rating'):\n",
    "    data = data.groupby([user_col, item_col])[rating_col].mean().reset_index()\n",
    "    return data.pivot(index=user_col, columns=item_col, values=rating_col).fillna(0)\n",
    "\n",
    "# Generate matrices for each split\n",
    "train_matrix = create_user_item_matrix(train_data)\n",
    "val_matrix = create_user_item_matrix(val_data).reindex(columns=train_matrix.columns, fill_value=0)\n",
    "test_matrix = create_user_item_matrix(test_data).reindex(columns=train_matrix.columns, fill_value=0)\n",
    "\n",
    "# Print the matrices\n",
    "print(\"Train Matrix:\")\n",
    "print(train_matrix)\n",
    "print(\"\\nValidation Matrix:\")\n",
    "print(val_matrix)\n",
    "print(\"\\nTest Matrix:\")\n",
    "print(test_matrix)"
   ]
  },
  {
   "cell_type": "code",
   "execution_count": 35,
   "id": "09d5802d",
   "metadata": {},
   "outputs": [],
   "source": [
    "# Filter hanya user dengan minimal 10 interaksi\n",
    "user_counts = data['user_id'].value_counts()\n",
    "active_users = user_counts[user_counts >= 10].index\n",
    "filtered_data = data[data['user_id'].isin(active_users)]\n",
    "\n",
    "dataset = Dataset.load_from_df(filtered_data[['user_id', 'Nama_tempat_wisata', 'rating']], reader)"
   ]
  },
  {
   "cell_type": "markdown",
   "id": "c0ba385c",
   "metadata": {},
   "source": [
    "## Tuning KNN Model"
   ]
  },
  {
   "cell_type": "code",
   "execution_count": 36,
   "id": "208d45db",
   "metadata": {},
   "outputs": [
    {
     "name": "stdout",
     "output_type": "stream",
     "text": [
      "Best RMSE: 0.7810104862731407\n",
      "Best Parameters: {'k': 10, 'sim_options': {'name': 'cosine', 'user_based': False}}\n"
     ]
    }
   ],
   "source": [
    "param_grid = {\n",
    "    'k': [3, 5, 7, 10],\n",
    "    'sim_options': {\n",
    "        'name': ['cosine', 'pearson'],\n",
    "        'user_based': [True, False]\n",
    "    }\n",
    "}\n",
    "\n",
    "gs = GridSearchCV(KNNBasic, param_grid, measures=['rmse', 'mae'], cv=3, n_jobs=-1)\n",
    "gs.fit(dataset)\n",
    "\n",
    "# Menampilkan parameter terbaik\n",
    "print(\"Best RMSE:\", gs.best_score['rmse'])\n",
    "print(\"Best Parameters:\", gs.best_params['rmse'])"
   ]
  },
  {
   "cell_type": "markdown",
   "id": "1e1901ea",
   "metadata": {},
   "source": [
    "## RMSE & MAE"
   ]
  },
  {
   "cell_type": "code",
   "execution_count": 37,
   "id": "552181ea",
   "metadata": {},
   "outputs": [
    {
     "name": "stdout",
     "output_type": "stream",
     "text": [
      "Computing the cosine similarity matrix...\n",
      "Done computing similarity matrix.\n",
      "RMSE: 0.5472\n",
      "MAE:  0.3865\n",
      "RMSE: 0.5472, MAE: 0.3865\n"
     ]
    }
   ],
   "source": [
    "# Gunakan paameter terbaik\n",
    "best_params = gs.best_params['rmse']\n",
    "model = KNNBasic(k=best_params['k'], sim_options=best_params['sim_options'])\n",
    "\n",
    "# Train the model\n",
    "trainset = dataset.build_full_trainset()\n",
    "model.fit(trainset)\n",
    "\n",
    "# Evaluate on testset\n",
    "predictions = model.test(testset)\n",
    "\n",
    "# Hitung metrik evaluasi\n",
    "rmse = accuracy.rmse(predictions)\n",
    "mae = accuracy.mae(predictions)\n",
    "print(f\"RMSE: {rmse:.4f}, MAE: {mae:.4f}\")"
   ]
  },
  {
   "cell_type": "markdown",
   "id": "579d8a31",
   "metadata": {},
   "source": [
    "## Precision@k, Recall@k, and MAP@k "
   ]
  },
  {
   "cell_type": "code",
   "execution_count": 38,
   "id": "8d22de23",
   "metadata": {},
   "outputs": [],
   "source": [
    "from collections import defaultdict\n",
    "import numpy as np\n",
    "\n",
    "def precision_recall_map_at_k(predictions, k=10, threshold=4.0):\n",
    "    \"\"\"\n",
    "    Menghitung Precision@k, Recall@k, dan MAP@k secara langsung.\n",
    "    \n",
    "    Parameters:\n",
    "    - predictions: Hasil prediksi dari Surprise\n",
    "    - k: Jumlah top-k item\n",
    "    - threshold: Ambang batas rating untuk menentukan item relevan\n",
    "    \n",
    "    Returns:\n",
    "    - precision: Nilai Precision@k\n",
    "    - recall: Nilai Recall@k\n",
    "    - map_at_k: Nilai MAP@k\n",
    "    \"\"\"\n",
    "    user_est_true = defaultdict(list)\n",
    "    for uid, iid, true_r, est, _ in predictions:\n",
    "        user_est_true[uid].append((est, true_r))\n",
    "    \n",
    "    precisions = []\n",
    "    recalls = []\n",
    "    average_precisions = []\n",
    "\n",
    "    for uid, user_ratings in user_est_true.items():\n",
    "        # Urutkan berdasarkan prediksi rating (descending)\n",
    "        user_ratings.sort(key=lambda x: x[0], reverse=True)\n",
    "        \n",
    "        # Ambil top-k item\n",
    "        top_k = user_ratings[:k]\n",
    "        \n",
    "        # Hitung jumlah item relevan di top-k\n",
    "        relevant_in_top_k = sum((true_r >= threshold) for _, true_r in top_k)\n",
    "        \n",
    "        # Hitung total item relevan sebenarnya\n",
    "        total_relevant = sum((true_r >= threshold) for _, true_r in user_ratings)\n",
    "        \n",
    "        # Precision@k\n",
    "        precision = relevant_in_top_k / k if k > 0 else 0\n",
    "        precisions.append(precision)\n",
    "        \n",
    "        # Recall@k\n",
    "        recall = relevant_in_top_k / total_relevant if total_relevant > 0 else 0\n",
    "        recalls.append(recall)\n",
    "        \n",
    "        # Average Precision untuk MAP@k\n",
    "        num_relevant = 0\n",
    "        precision_at_i = []\n",
    "        for i, (_, true_r) in enumerate(top_k):\n",
    "            if true_r >= threshold:  # Item relevan\n",
    "                num_relevant += 1\n",
    "                precision_at_i.append(num_relevant / (i + 1))\n",
    "        \n",
    "        average_precision = sum(precision_at_i) / num_relevant if num_relevant > 0 else 0\n",
    "        average_precisions.append(average_precision)\n",
    "    \n",
    "    # Rata-rata Precision, Recall, dan MAP\n",
    "    mean_precision = np.mean(precisions)\n",
    "    mean_recall = np.mean(recalls)\n",
    "    mean_map = np.mean(average_precisions)\n",
    "    \n",
    "    return mean_precision, mean_recall, mean_map\n",
    "\n",
    "\n",
    "# Hitung Precision@k, Recall@k, dan MAP@k\n",
    "precision_at_5, recall_at_5, map_at_5 = precision_recall_map_at_k(predictions, k=5, threshold=4.0)\n",
    "precision_at_10, recall_at_10, map_at_10 = precision_recall_map_at_k(predictions, k=10, threshold=4.0)"
   ]
  },
  {
   "cell_type": "code",
   "execution_count": 39,
   "id": "4df70a2e",
   "metadata": {},
   "outputs": [
    {
     "name": "stdout",
     "output_type": "stream",
     "text": [
      "Precision@5: 0.6556\n",
      "Recall@5: 0.9754\n",
      "MAP@5: 0.9877\n",
      "Precision@10: 0.3444\n",
      "Recall@10: 1.0000\n",
      "MAP@10: 0.9877\n"
     ]
    }
   ],
   "source": [
    "# Tampilkan hasil\n",
    "print(f\"Precision@5: {precision_at_5:.4f}\")\n",
    "print(f\"Recall@5: {recall_at_5:.4f}\")\n",
    "print(f\"MAP@5: {map_at_5:.4f}\")\n",
    "\n",
    "print(f\"Precision@10: {precision_at_10:.4f}\")\n",
    "print(f\"Recall@10: {recall_at_10:.4f}\")\n",
    "print(f\"MAP@10: {map_at_10:.4f}\")"
   ]
  },
  {
   "cell_type": "markdown",
   "id": "d1a60130",
   "metadata": {},
   "source": [
    "## Visualisasi"
   ]
  },
  {
   "cell_type": "code",
   "execution_count": 58,
   "id": "f0ae4fc7",
   "metadata": {},
   "outputs": [
    {
     "data": {
      "image/png": "[encoded data removed]",
      "text/plain": [
       "<Figure size 576x360 with 1 Axes>"
      ]
     },
     "metadata": {
      "needs_background": "light"
     },
     "output_type": "display_data"
    }
   ],
   "source": [
    "import matplotlib.pyplot as plt\n",
    "import numpy as np\n",
    "\n",
    "# Simpan nilai RMSE dan MAE yang sudah dihitung\n",
    "metrics = {'RMSE': rmse, 'MAE': mae}\n",
    "\n",
    "# Visualisasi menggunakan diagram batang\n",
    "plt.figure(figsize=(8, 5))\n",
    "plt.bar(metrics.keys(), metrics.values(), color=['skyblue', 'salmon'], alpha=0.8, edgecolor='black')\n",
    "\n",
    "# Tambahkan nilai di atas batang\n",
    "for i, (metric, value) in enumerate(metrics.items()):\n",
    "    plt.text(i, value + 0.01, f'{value:.4f}', ha='center', fontsize=12, fontweight='bold')\n",
    "\n",
    "# Tambahkan detail pada plot\n",
    "plt.title('RMSE dan MAE Model KNN', fontsize=16, fontweight='bold')\n",
    "plt.ylabel('Error', fontsize=14)\n",
    "plt.xticks(fontsize=12)\n",
    "plt.yticks(fontsize=12)\n",
    "plt.ylim(0, max(metrics.values()) + 0.5)\n",
    "\n",
    "# Tampilkan diagram batang\n",
    "plt.grid(axis='y', linestyle='--', alpha=0.7)\n",
    "plt.tight_layout()\n",
    "plt.show()"
   ]
  },
  {
   "cell_type": "code",
   "execution_count": 59,
   "id": "75ee16f8",
   "metadata": {},
   "outputs": [
    {
     "data": {
      "image/png": "[encoded data removed]",
      "text/plain": [
       "<Figure size 720x432 with 1 Axes>"
      ]
     },
     "metadata": {
      "needs_background": "light"
     },
     "output_type": "display_data"
    }
   ],
   "source": [
    "import matplotlib.pyplot as plt\n",
    "import numpy as np\n",
    "\n",
    "# Simpan nilai Precision, Recall, dan MAP untuk k@5 dan k@10\n",
    "metrics = {\n",
    "    'Precision@5': 0.6556,\n",
    "    'Recall@5': 0.9754,\n",
    "    'MAP@5': 0.9877,\n",
    "    'Precision@10': 0.3444,\n",
    "    'Recall@10': 1.0000,\n",
    "    'MAP@10': 0.9877\n",
    "}\n",
    "\n",
    "# Visualisasi menggunakan diagram batang\n",
    "plt.figure(figsize=(10, 6))\n",
    "plt.bar(metrics.keys(), metrics.values(), color=['blue', 'orange', 'green', 'blue', 'orange', 'green'], alpha=0.8, edgecolor='black')\n",
    "\n",
    "# Tambahkan nilai di atas batang\n",
    "for i, (metric, value) in enumerate(metrics.items()):\n",
    "    plt.text(i, value + 0.01, f'{value:.4f}', ha='center', fontsize=12, fontweight='bold')\n",
    "\n",
    "# Tambahkan detail pada plot\n",
    "plt.title('Precision, Recall, and MAP for k@5 and k@10 Model KNN', fontsize=16, fontweight='bold')\n",
    "plt.ylabel('Metric Value', fontsize=14)\n",
    "plt.xticks(fontsize=12)\n",
    "plt.yticks(fontsize=12)\n",
    "plt.ylim(0, max(metrics.values()) + 0.2)\n",
    "\n",
    "# Tampilkan diagram batang\n",
    "plt.grid(axis='y', linestyle='--', alpha=0.7)\n",
    "plt.tight_layout()\n",
    "plt.show()"
   ]
  },
  {
   "cell_type": "code",
   "execution_count": 60,
   "id": "03abaf44",
   "metadata": {},
   "outputs": [
    {
     "name": "stdout",
     "output_type": "stream",
     "text": [
      "Top 5 rekomendasi untuk User 1.08733e+20: dengan Model KNN\n",
      "   Place ID                               Nama Tempat Wisata  Predicted Rating\n",
      "0         0                        PASIR PUTIH LUMBAN BULBUL          4.505797\n",
      "1         1  Patung Yesus, Bukit Sibea-bea, Huta Harian Boho          4.505797\n",
      "2         2                      Pelabuhan wisata danau toba          4.505797\n",
      "3         3                                        Singgolom          4.505797\n",
      "4         4                        Puncak Panorama Aek Nauli          4.505797\n"
     ]
    }
   ],
   "source": [
    "def get_top_n_recommendations_table(predictions, user_id, n=5):\n",
    "    \"\"\"\n",
    "    Mengembalikan top-N rekomendasi dalam bentuk tabel.\n",
    "    \n",
    "    Parameters:\n",
    "    - predictions: List prediksi dari Surprise\n",
    "    - user_id: ID user yang ingin ditampilkan rekomendasinya\n",
    "    - n: Jumlah rekomendasi yang diinginkan (default: 5)\n",
    "    \n",
    "    Returns:\n",
    "    - DataFrame berisi item_id, nama tempat wisata, dan prediksi rating\n",
    "    \"\"\"\n",
    "    # Filter prediksi untuk user tertentu\n",
    "    user_predictions = [pred for pred in predictions if pred.uid == user_id]\n",
    "    \n",
    "    # Urutkan berdasarkan rating prediksi (descending)\n",
    "    user_predictions.sort(key=lambda x: x.est, reverse=True)\n",
    "    \n",
    "    # Ambil top-N rekomendasi\n",
    "    top_n = user_predictions[:n]\n",
    "    \n",
    "    # Format data untuk DataFrame\n",
    "    top_n_data = []\n",
    "    for pred in top_n:\n",
    "        place_name = data[data['item_id'] == pred.iid]['Nama_tempat_wisata'].iloc[0]\n",
    "        top_n_data.append({'Place ID': pred.iid, 'Nama Tempat Wisata': place_name, 'Predicted Rating': pred.est})\n",
    "    \n",
    "    # Konversi ke DataFrame\n",
    "    return pd.DataFrame(top_n_data)\n",
    "\n",
    "# Pilih user_id untuk melihat rekomendasi\n",
    "user_id = '1.08733e+20'\n",
    "\n",
    "# Dapatkan daftar semua item di dataset\n",
    "all_items = set(data['item_id'].unique())\n",
    "\n",
    "# Cari item yang belum di-rating oleh user\n",
    "rated_items = set(data[data['user_id'] == user_id]['item_id'])\n",
    "unrated_items = all_items - rated_items\n",
    "\n",
    "# Buat testset untuk user dengan semua item yang belum di-rating\n",
    "user_testset = [(user_id, item_id, 0) for item_id in unrated_items]\n",
    "\n",
    "# Prediksi untuk semua item di testset\n",
    "user_predictions = model.test(user_testset)\n",
    "\n",
    "# Dapatkan top 5 rekomendasi dalam bentuk tabel\n",
    "top_5_recommendations_table = get_top_n_recommendations_table(user_predictions, user_id, n=5)\n",
    "\n",
    "# Tampilkan tabel\n",
    "print(\"Top 5 rekomendasi untuk User {}: dengan Model KNN\".format(user_id))\n",
    "print(top_5_recommendations_table)"
   ]
  },
  {
   "cell_type": "code",
   "execution_count": null,
   "id": "72468c6d",
   "metadata": {},
   "outputs": [],
   "source": []
  }
 ],
 "metadata": {
  "kernelspec": {
   "display_name": "Python 3 (ipykernel)",
   "language": "python",
   "name": "python3"
  },
  "language_info": {
   "codemirror_mode": {
    "name": "ipython",
    "version": 3
   },
   "file_extension": ".py",
   "mimetype": "text/x-python",
   "name": "python",
   "nbconvert_exporter": "python",
   "pygments_lexer": "ipython3",
   "version": "3.9.12"
  }
 },
 "nbformat": 4,
 "nbformat_minor": 5
}
