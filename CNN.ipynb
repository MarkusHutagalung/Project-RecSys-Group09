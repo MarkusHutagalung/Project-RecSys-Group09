{
 "cells": [
  {
   "cell_type": "markdown",
   "id": "99cff859",
   "metadata": {},
   "source": [
    "## Convolutional Neural Network (CNN)"
   ]
  },
  {
   "cell_type": "code",
   "execution_count": 22,
   "id": "ed1fe60b",
   "metadata": {},
   "outputs": [],
   "source": [
    "import pandas as pd\n",
    "import numpy as np\n",
    "from surprise import KNNBasic, Dataset, Reader, accuracy\n",
    "from surprise.model_selection import GridSearchCV, train_test_split\n",
    "import matplotlib.pyplot as plt\n",
    "import keras\n",
    "from keras import layers"
   ]
  },
  {
   "cell_type": "markdown",
   "id": "3082fbe1",
   "metadata": {},
   "source": [
    "### Load Data"
   ]
  },
  {
   "cell_type": "code",
   "execution_count": 2,
   "id": "97ee4a87",
   "metadata": {},
   "outputs": [],
   "source": [
    "data = pd.read_csv(\"data/Tempat-Wisata-Toba-Preprocessing.csv\")"
   ]
  },
  {
   "cell_type": "code",
   "execution_count": 3,
   "id": "4f14a40c",
   "metadata": {},
   "outputs": [
    {
     "data": {
      "text/plain": [
       "Index(['Unnamed: 0.1', 'Unnamed: 0', 'address', 'PlaceID',\n",
       "       'Nama_tempat_wisata', 'Category', 'ReviewerId', 'Rating', 'Reviews'],\n",
       "      dtype='object')"
      ]
     },
     "execution_count": 3,
     "metadata": {},
     "output_type": "execute_result"
    }
   ],
   "source": [
    "data.columns"
   ]
  },
  {
   "cell_type": "code",
   "execution_count": 4,
   "id": "748e6def",
   "metadata": {},
   "outputs": [
    {
     "data": {
      "text/html": [
       "<div>\n",
       "<style scoped>\n",
       "    .dataframe tbody tr th:only-of-type {\n",
       "        vertical-align: middle;\n",
       "    }\n",
       "\n",
       "    .dataframe tbody tr th {\n",
       "        vertical-align: top;\n",
       "    }\n",
       "\n",
       "    .dataframe thead th {\n",
       "        text-align: right;\n",
       "    }\n",
       "</style>\n",
       "<table border=\"1\" class=\"dataframe\">\n",
       "  <thead>\n",
       "    <tr style=\"text-align: right;\">\n",
       "      <th></th>\n",
       "      <th>Unnamed: 0.1</th>\n",
       "      <th>Unnamed: 0</th>\n",
       "      <th>address</th>\n",
       "      <th>item_id</th>\n",
       "      <th>Nama_tempat_wisata</th>\n",
       "      <th>Category</th>\n",
       "      <th>user_id</th>\n",
       "      <th>rating</th>\n",
       "      <th>Reviews</th>\n",
       "    </tr>\n",
       "  </thead>\n",
       "  <tbody>\n",
       "    <tr>\n",
       "      <th>1</th>\n",
       "      <td>1</td>\n",
       "      <td>1</td>\n",
       "      <td>Jl. Sibola Hotang, Sibola Hotangsas, Kec. Bali...</td>\n",
       "      <td>0</td>\n",
       "      <td>PASIR PUTIH LUMBAN BULBUL</td>\n",
       "      <td>Wisata Bahari</td>\n",
       "      <td>1.119090e+20</td>\n",
       "      <td>5.0</td>\n",
       "      <td>bagus</td>\n",
       "    </tr>\n",
       "    <tr>\n",
       "      <th>3</th>\n",
       "      <td>3</td>\n",
       "      <td>3</td>\n",
       "      <td>Jl. Sibola Hotang, Sibola Hotangsas, Kec. Bali...</td>\n",
       "      <td>0</td>\n",
       "      <td>PASIR PUTIH LUMBAN BULBUL</td>\n",
       "      <td>Wisata Bahari</td>\n",
       "      <td>1.130720e+20</td>\n",
       "      <td>5.0</td>\n",
       "      <td>sangat menyenagkan</td>\n",
       "    </tr>\n",
       "    <tr>\n",
       "      <th>4</th>\n",
       "      <td>4</td>\n",
       "      <td>4</td>\n",
       "      <td>Jl. Sibola Hotang, Sibola Hotangsas, Kec. Bali...</td>\n",
       "      <td>0</td>\n",
       "      <td>PASIR PUTIH LUMBAN BULBUL</td>\n",
       "      <td>Wisata Bahari</td>\n",
       "      <td>1.061730e+20</td>\n",
       "      <td>5.0</td>\n",
       "      <td>bebas foto dimana aja cuma 2k</td>\n",
       "    </tr>\n",
       "    <tr>\n",
       "      <th>6</th>\n",
       "      <td>6</td>\n",
       "      <td>6</td>\n",
       "      <td>Jl. Sibola Hotang, Sibola Hotangsas, Kec. Bali...</td>\n",
       "      <td>0</td>\n",
       "      <td>PASIR PUTIH LUMBAN BULBUL</td>\n",
       "      <td>Wisata Bahari</td>\n",
       "      <td>1.142390e+20</td>\n",
       "      <td>5.0</td>\n",
       "      <td>amazing pengen kesini lagi</td>\n",
       "    </tr>\n",
       "    <tr>\n",
       "      <th>8</th>\n",
       "      <td>8</td>\n",
       "      <td>8</td>\n",
       "      <td>Jl. Sibola Hotang, Sibola Hotangsas, Kec. Bali...</td>\n",
       "      <td>0</td>\n",
       "      <td>PASIR PUTIH LUMBAN BULBUL</td>\n",
       "      <td>Wisata Bahari</td>\n",
       "      <td>1.047430e+20</td>\n",
       "      <td>3.0</td>\n",
       "      <td>jalan menuju lokasi perlu diperhatikan oleh pe...</td>\n",
       "    </tr>\n",
       "  </tbody>\n",
       "</table>\n",
       "</div>"
      ],
      "text/plain": [
       "   Unnamed: 0.1  Unnamed: 0  \\\n",
       "1             1           1   \n",
       "3             3           3   \n",
       "4             4           4   \n",
       "6             6           6   \n",
       "8             8           8   \n",
       "\n",
       "                                             address  item_id  \\\n",
       "1  Jl. Sibola Hotang, Sibola Hotangsas, Kec. Bali...        0   \n",
       "3  Jl. Sibola Hotang, Sibola Hotangsas, Kec. Bali...        0   \n",
       "4  Jl. Sibola Hotang, Sibola Hotangsas, Kec. Bali...        0   \n",
       "6  Jl. Sibola Hotang, Sibola Hotangsas, Kec. Bali...        0   \n",
       "8  Jl. Sibola Hotang, Sibola Hotangsas, Kec. Bali...        0   \n",
       "\n",
       "          Nama_tempat_wisata       Category       user_id  rating  \\\n",
       "1  PASIR PUTIH LUMBAN BULBUL  Wisata Bahari  1.119090e+20     5.0   \n",
       "3  PASIR PUTIH LUMBAN BULBUL  Wisata Bahari  1.130720e+20     5.0   \n",
       "4  PASIR PUTIH LUMBAN BULBUL  Wisata Bahari  1.061730e+20     5.0   \n",
       "6  PASIR PUTIH LUMBAN BULBUL  Wisata Bahari  1.142390e+20     5.0   \n",
       "8  PASIR PUTIH LUMBAN BULBUL  Wisata Bahari  1.047430e+20     3.0   \n",
       "\n",
       "                                             Reviews  \n",
       "1                                              bagus  \n",
       "3                                 sangat menyenagkan  \n",
       "4                      bebas foto dimana aja cuma 2k  \n",
       "6                         amazing pengen kesini lagi  \n",
       "8  jalan menuju lokasi perlu diperhatikan oleh pe...  "
      ]
     },
     "execution_count": 4,
     "metadata": {},
     "output_type": "execute_result"
    }
   ],
   "source": [
    "data = data.rename(columns={'ReviewerId': 'user_id', 'PlaceID': 'item_id', 'Rating': 'rating'})\n",
    "data['rating'] = data['rating'].astype(float)\n",
    "data.dropna(inplace=True)\n",
    "data.head()"
   ]
  },
  {
   "cell_type": "code",
   "execution_count": 5,
   "id": "87ba427f",
   "metadata": {},
   "outputs": [
    {
     "data": {
      "text/html": [
       "<div>\n",
       "<style scoped>\n",
       "    .dataframe tbody tr th:only-of-type {\n",
       "        vertical-align: middle;\n",
       "    }\n",
       "\n",
       "    .dataframe tbody tr th {\n",
       "        vertical-align: top;\n",
       "    }\n",
       "\n",
       "    .dataframe thead th {\n",
       "        text-align: right;\n",
       "    }\n",
       "</style>\n",
       "<table border=\"1\" class=\"dataframe\">\n",
       "  <thead>\n",
       "    <tr style=\"text-align: right;\">\n",
       "      <th></th>\n",
       "      <th>item_id</th>\n",
       "      <th>Nama_tempat_wisata</th>\n",
       "      <th>user_id</th>\n",
       "      <th>rating</th>\n",
       "    </tr>\n",
       "  </thead>\n",
       "  <tbody>\n",
       "    <tr>\n",
       "      <th>1</th>\n",
       "      <td>0</td>\n",
       "      <td>PASIR PUTIH LUMBAN BULBUL</td>\n",
       "      <td>1.119090e+20</td>\n",
       "      <td>5.0</td>\n",
       "    </tr>\n",
       "    <tr>\n",
       "      <th>3</th>\n",
       "      <td>0</td>\n",
       "      <td>PASIR PUTIH LUMBAN BULBUL</td>\n",
       "      <td>1.130720e+20</td>\n",
       "      <td>5.0</td>\n",
       "    </tr>\n",
       "    <tr>\n",
       "      <th>4</th>\n",
       "      <td>0</td>\n",
       "      <td>PASIR PUTIH LUMBAN BULBUL</td>\n",
       "      <td>1.061730e+20</td>\n",
       "      <td>5.0</td>\n",
       "    </tr>\n",
       "    <tr>\n",
       "      <th>6</th>\n",
       "      <td>0</td>\n",
       "      <td>PASIR PUTIH LUMBAN BULBUL</td>\n",
       "      <td>1.142390e+20</td>\n",
       "      <td>5.0</td>\n",
       "    </tr>\n",
       "    <tr>\n",
       "      <th>8</th>\n",
       "      <td>0</td>\n",
       "      <td>PASIR PUTIH LUMBAN BULBUL</td>\n",
       "      <td>1.047430e+20</td>\n",
       "      <td>3.0</td>\n",
       "    </tr>\n",
       "  </tbody>\n",
       "</table>\n",
       "</div>"
      ],
      "text/plain": [
       "   item_id         Nama_tempat_wisata       user_id  rating\n",
       "1        0  PASIR PUTIH LUMBAN BULBUL  1.119090e+20     5.0\n",
       "3        0  PASIR PUTIH LUMBAN BULBUL  1.130720e+20     5.0\n",
       "4        0  PASIR PUTIH LUMBAN BULBUL  1.061730e+20     5.0\n",
       "6        0  PASIR PUTIH LUMBAN BULBUL  1.142390e+20     5.0\n",
       "8        0  PASIR PUTIH LUMBAN BULBUL  1.047430e+20     3.0"
      ]
     },
     "execution_count": 5,
     "metadata": {},
     "output_type": "execute_result"
    }
   ],
   "source": [
    "col_to_drop = ['Unnamed: 0.1', 'Unnamed: 0', 'address', 'Category', 'Reviews']\n",
    "data = data.drop(columns=col_to_drop)\n",
    "data.head()"
   ]
  },
  {
   "cell_type": "code",
   "execution_count": 6,
   "id": "b3fe1636",
   "metadata": {},
   "outputs": [
    {
     "data": {
      "text/plain": [
       "(22166, 4)"
      ]
     },
     "execution_count": 6,
     "metadata": {},
     "output_type": "execute_result"
    }
   ],
   "source": [
    "data.shape"
   ]
  },
  {
   "cell_type": "code",
   "execution_count": 7,
   "id": "1982686b",
   "metadata": {},
   "outputs": [],
   "source": [
    "# Define Reader object\n",
    "reader = Reader(rating_scale=(data['rating'].min(), data['rating'].max()))\n",
    "dataset = Dataset.load_from_df(data[['user_id', 'item_id', 'rating']], reader)"
   ]
  },
  {
   "cell_type": "markdown",
   "id": "236dd3ee",
   "metadata": {},
   "source": [
    "### Split Data"
   ]
  },
  {
   "cell_type": "code",
   "execution_count": 8,
   "id": "53d8cfec",
   "metadata": {},
   "outputs": [
    {
     "name": "stdout",
     "output_type": "stream",
     "text": [
      "Train data shape: (15516, 4) (70.00% dari total data)\n",
      "Validation data shape: (3325, 4) (15.00% dari total data)\n",
      "Test data shape: (3325, 4) (15.00% dari total data)\n"
     ]
    }
   ],
   "source": [
    "from sklearn.model_selection import train_test_split\n",
    "\n",
    "# Membagi data menjadi train (70%) dan sisanya (30%)\n",
    "train_data, temp_data = train_test_split(data, test_size=0.30, random_state=42)\n",
    "\n",
    "# Membagi temp_data menjadi validation (15% dari total data) dan test (15% dari total data)\n",
    "val_data, test_data = train_test_split(temp_data, test_size=0.50, random_state=42)\n",
    "\n",
    "# Menampilkan hasil pembagian data\n",
    "print(f\"Train data shape: {train_data.shape} ({len(train_data) / len(data):.2%} dari total data)\")\n",
    "print(f\"Validation data shape: {val_data.shape} ({len(val_data) / len(data):.2%} dari total data)\")\n",
    "print(f\"Test data shape: {test_data.shape} ({len(test_data) / len(data):.2%} dari total data)\")\n"
   ]
  },
  {
   "cell_type": "markdown",
   "id": "67c8bf29",
   "metadata": {},
   "source": [
    "## Create User-Item Matrix"
   ]
  },
  {
   "cell_type": "code",
   "execution_count": 9,
   "id": "04fb1813",
   "metadata": {},
   "outputs": [
    {
     "name": "stdout",
     "output_type": "stream",
     "text": [
      "Train Matrix:\n",
      "item_id       0    1    2    3    4    5    6    8    9    10   ...  92   93   \\\n",
      "user_id                                                         ...             \n",
      "1.000030e+20  0.0  0.0  0.0  0.0  0.0  0.0  0.0  0.0  0.0  0.0  ...  0.0  0.0   \n",
      "1.000040e+20  0.0  0.0  0.0  0.0  0.0  0.0  0.0  0.0  0.0  0.0  ...  0.0  0.0   \n",
      "1.000090e+20  0.0  0.0  0.0  0.0  0.0  0.0  0.0  0.0  0.0  0.0  ...  0.0  0.0   \n",
      "1.000100e+20  0.0  0.0  0.0  0.0  0.0  0.0  0.0  0.0  0.0  0.0  ...  0.0  0.0   \n",
      "1.000120e+20  0.0  0.0  0.0  0.0  0.0  0.0  0.0  0.0  0.0  0.0  ...  0.0  0.0   \n",
      "...           ...  ...  ...  ...  ...  ...  ...  ...  ...  ...  ...  ...  ...   \n",
      "1.184390e+20  0.0  0.0  0.0  0.0  0.0  0.0  0.0  0.0  0.0  0.0  ...  5.0  0.0   \n",
      "1.184410e+20  0.0  0.0  0.0  0.0  0.0  0.0  0.0  0.0  0.0  0.0  ...  0.0  0.0   \n",
      "1.184430e+20  0.0  0.0  0.0  0.0  0.0  0.0  0.0  0.0  0.0  0.0  ...  0.0  5.0   \n",
      "1.184440e+20  0.0  0.0  0.0  0.0  0.0  0.0  0.0  0.0  0.0  0.0  ...  0.0  0.0   \n",
      "1.184460e+20  0.0  0.0  0.0  0.0  0.0  0.0  0.0  0.0  0.0  0.0  ...  0.0  0.0   \n",
      "\n",
      "item_id       94   95   96   97   98   99   100  101  \n",
      "user_id                                               \n",
      "1.000030e+20  0.0  0.0  0.0  0.0  4.0  0.0  0.0  0.0  \n",
      "1.000040e+20  0.0  0.0  0.0  0.0  0.0  0.0  0.0  0.0  \n",
      "1.000090e+20  5.0  0.0  0.0  0.0  0.0  5.0  0.0  0.0  \n",
      "1.000100e+20  0.0  0.0  0.0  0.0  0.0  0.0  0.0  5.0  \n",
      "1.000120e+20  0.0  5.0  0.0  0.0  0.0  0.0  0.0  0.0  \n",
      "...           ...  ...  ...  ...  ...  ...  ...  ...  \n",
      "1.184390e+20  0.0  0.0  0.0  0.0  0.0  0.0  0.0  0.0  \n",
      "1.184410e+20  0.0  0.0  5.0  0.0  0.0  0.0  0.0  0.0  \n",
      "1.184430e+20  0.0  0.0  0.0  0.0  0.0  0.0  0.0  0.0  \n",
      "1.184440e+20  0.0  0.0  0.0  0.0  0.0  0.0  0.0  5.0  \n",
      "1.184460e+20  0.0  0.0  0.0  0.0  0.0  0.0  0.0  0.0  \n",
      "\n",
      "[8888 rows x 101 columns]\n",
      "\n",
      "Validation Matrix:\n",
      "item_id       0    1    2    3    4    5    6    8    9    10   ...  92   93   \\\n",
      "user_id                                                         ...             \n",
      "1.000100e+20  0.0  0.0    0  0.0  0.0  0.0  0.0    0  0.0  0.0  ...  0.0  0.0   \n",
      "1.000160e+20  0.0  0.0    0  0.0  0.0  0.0  0.0    0  0.0  0.0  ...  0.0  0.0   \n",
      "1.000270e+20  0.0  0.0    0  0.0  0.0  0.0  0.0    0  0.0  0.0  ...  0.0  0.0   \n",
      "1.000280e+20  0.0  0.0    0  0.0  0.0  0.0  0.0    0  0.0  0.0  ...  0.0  4.0   \n",
      "1.000380e+20  0.0  0.0    0  0.0  0.0  0.0  0.0    0  0.0  0.0  ...  0.0  0.0   \n",
      "...           ...  ...  ...  ...  ...  ...  ...  ...  ...  ...  ...  ...  ...   \n",
      "1.184280e+20  0.0  0.0    0  0.0  0.0  0.0  0.0    0  0.0  0.0  ...  0.0  0.0   \n",
      "1.184330e+20  0.0  0.0    0  0.0  0.0  0.0  0.0    0  0.0  0.0  ...  0.0  0.0   \n",
      "1.184360e+20  0.0  0.0    0  0.0  0.0  0.0  0.0    0  0.0  0.0  ...  0.0  0.0   \n",
      "1.184430e+20  0.0  0.0    0  0.0  0.0  0.0  0.0    0  0.0  0.0  ...  0.0  0.0   \n",
      "1.184460e+20  0.0  0.0    0  0.0  0.0  0.0  0.0    0  0.0  0.0  ...  0.0  0.0   \n",
      "\n",
      "item_id       94   95   96   97   98   99   100  101  \n",
      "user_id                                               \n",
      "1.000100e+20  0.0  4.0  0.0  0.0  0.0  0.0  0.0  0.0  \n",
      "1.000160e+20  0.0  0.0  4.0  0.0  0.0  0.0  0.0  0.0  \n",
      "1.000270e+20  0.0  0.0  0.0  0.0  5.0  0.0  0.0  0.0  \n",
      "1.000280e+20  0.0  0.0  0.0  0.0  0.0  0.0  0.0  0.0  \n",
      "1.000380e+20  0.0  0.0  0.0  0.0  0.0  0.0  0.0  0.0  \n",
      "...           ...  ...  ...  ...  ...  ...  ...  ...  \n",
      "1.184280e+20  0.0  0.0  0.0  0.0  0.0  0.0  0.0  0.0  \n",
      "1.184330e+20  0.0  0.0  0.0  0.0  0.0  0.0  0.0  0.0  \n",
      "1.184360e+20  0.0  0.0  0.0  0.0  0.0  0.0  0.0  0.0  \n",
      "1.184430e+20  0.0  0.0  0.0  0.0  0.0  0.0  0.0  0.0  \n",
      "1.184460e+20  0.0  0.0  0.0  0.0  0.0  0.0  0.0  0.0  \n",
      "\n",
      "[2846 rows x 101 columns]\n",
      "\n",
      "Test Matrix:\n",
      "item_id       0    1    2    3    4    5    6    8    9    10   ...  92   93   \\\n",
      "user_id                                                         ...             \n",
      "1.000120e+20  0.0  0.0    0  0.0  0.0  0.0  0.0  0.0  0.0  0.0  ...  0.0  0.0   \n",
      "1.000300e+20  0.0  0.0    0  0.0  0.0  0.0  0.0  0.0  0.0  0.0  ...  0.0  5.0   \n",
      "1.000340e+20  0.0  0.0    0  0.0  0.0  0.0  0.0  0.0  0.0  0.0  ...  0.0  0.0   \n",
      "1.000370e+20  0.0  0.0    0  0.0  0.0  0.0  0.0  0.0  0.0  0.0  ...  0.0  0.0   \n",
      "1.000380e+20  0.0  0.0    0  0.0  0.0  0.0  0.0  0.0  0.0  0.0  ...  0.0  0.0   \n",
      "...           ...  ...  ...  ...  ...  ...  ...  ...  ...  ...  ...  ...  ...   \n",
      "1.184360e+20  0.0  0.0    0  0.0  0.0  0.0  0.0  0.0  0.0  0.0  ...  0.0  0.0   \n",
      "1.184390e+20  0.0  0.0    0  0.0  0.0  0.0  0.0  0.0  0.0  0.0  ...  0.0  0.0   \n",
      "1.184400e+20  0.0  0.0    0  0.0  0.0  0.0  0.0  0.0  0.0  0.0  ...  0.0  0.0   \n",
      "1.184410e+20  0.0  0.0    0  0.0  0.0  0.0  0.0  0.0  0.0  0.0  ...  0.0  0.0   \n",
      "1.184440e+20  0.0  0.0    0  0.0  0.0  0.0  0.0  0.0  0.0  0.0  ...  0.0  0.0   \n",
      "\n",
      "item_id       94   95   96   97   98   99   100  101  \n",
      "user_id                                               \n",
      "1.000120e+20  0.0  0.0  0.0  0.0  0.0  0.0  0.0  5.0  \n",
      "1.000300e+20  0.0  0.0  0.0  0.0  0.0  0.0  0.0  0.0  \n",
      "1.000340e+20  0.0  0.0  0.0  0.0  0.0  0.0  0.0  5.0  \n",
      "1.000370e+20  0.0  0.0  0.0  0.0  0.0  0.0  0.0  0.0  \n",
      "1.000380e+20  0.0  0.0  0.0  0.0  0.0  0.0  0.0  0.0  \n",
      "...           ...  ...  ...  ...  ...  ...  ...  ...  \n",
      "1.184360e+20  0.0  0.0  0.0  0.0  0.0  0.0  0.0  0.0  \n",
      "1.184390e+20  0.0  0.0  0.0  0.0  0.0  0.0  0.0  0.0  \n",
      "1.184400e+20  0.0  0.0  0.0  0.0  0.0  0.0  0.0  0.0  \n",
      "1.184410e+20  0.0  0.0  0.0  0.0  4.0  0.0  0.0  0.0  \n",
      "1.184440e+20  0.0  0.0  0.0  0.0  0.0  0.0  0.0  0.0  \n",
      "\n",
      "[2814 rows x 101 columns]\n"
     ]
    }
   ],
   "source": [
    "# Create user-item matrix\n",
    "def create_user_item_matrix(data, user_col='user_id', item_col='item_id', rating_col='rating'):\n",
    "    data = data.groupby([user_col, item_col])[rating_col].mean().reset_index()\n",
    "    return data.pivot(index=user_col, columns=item_col, values=rating_col).fillna(0)\n",
    "\n",
    "# Generate matrices for each split\n",
    "train_matrix = create_user_item_matrix(train_data)\n",
    "val_matrix = create_user_item_matrix(val_data).reindex(columns=train_matrix.columns, fill_value=0)\n",
    "test_matrix = create_user_item_matrix(test_data).reindex(columns=train_matrix.columns, fill_value=0)\n",
    "\n",
    "# Print the matrices\n",
    "print(\"Train Matrix:\")\n",
    "print(train_matrix)\n",
    "print(\"\\nValidation Matrix:\")\n",
    "print(val_matrix)\n",
    "print(\"\\nTest Matrix:\")\n",
    "print(test_matrix)"
   ]
  },
  {
   "cell_type": "code",
   "execution_count": 10,
   "id": "d91b4620",
   "metadata": {},
   "outputs": [],
   "source": [
    "# Filter hanya user dengan minimal 10 interaksi\n",
    "user_counts = data['user_id'].value_counts()\n",
    "active_users = user_counts[user_counts >= 10].index\n",
    "filtered_data = data[data['user_id'].isin(active_users)]\n",
    "\n",
    "dataset = Dataset.load_from_df(filtered_data[['user_id', 'Nama_tempat_wisata', 'rating']], reader)"
   ]
  },
  {
   "cell_type": "markdown",
   "id": "9e70dd16",
   "metadata": {},
   "source": [
    "### User-Profile & Item-Profile"
   ]
  },
  {
   "cell_type": "code",
   "execution_count": 11,
   "id": "90d1698b",
   "metadata": {},
   "outputs": [
    {
     "name": "stdout",
     "output_type": "stream",
     "text": [
      "User Profile:\n",
      "              feature_1  feature_2  feature_3  feature_4  feature_5\n",
      "user_id                                                            \n",
      "1.000030e+20   0.000000   0.036775   0.026203   0.031098   0.317672\n",
      "1.000040e+20   0.000000   0.000000   0.000000   1.770536   0.000000\n",
      "1.000090e+20   0.000000   0.000000   0.000000   0.000000   0.885755\n",
      "1.000100e+20   0.000000   0.000000   1.209843   0.000000   0.000000\n",
      "1.000120e+20   0.000000   0.007574   0.000000   0.013873   0.315452\n",
      "...                 ...        ...        ...        ...        ...\n",
      "1.184390e+20   0.007485   0.018673   0.023109   0.000000   0.128271\n",
      "1.184410e+20   0.048425   0.000000   0.000000   0.000000   0.354191\n",
      "1.184430e+20   1.918179   0.006708   0.032333   0.000000   0.198410\n",
      "1.184440e+20   0.000000   0.000000   1.206284   2.215178   0.017028\n",
      "1.184460e+20   0.078109   0.053537   0.029770   0.090480   0.234539\n",
      "\n",
      "[8888 rows x 5 columns]\n",
      "\n",
      "Item Profile:\n",
      "         feature_1  feature_2  feature_3  feature_4      feature_5\n",
      "item_id                                                           \n",
      "0         0.052332   0.016174   0.029959   0.001924   1.034955e-01\n",
      "1         0.004265   0.001931   0.002223   0.000008   7.669361e-03\n",
      "2         0.000000   0.000000   0.000000   0.000000  1.260220e-256\n",
      "3         0.002781   0.001749   0.004946   0.008594   5.077418e-03\n",
      "4         0.000000   0.000000   0.000000   0.000547   8.363001e-03\n",
      "...            ...        ...        ...        ...            ...\n",
      "97        0.040784   0.047526   0.066480   0.036333   6.198850e-02\n",
      "98        0.000000   0.074770   0.035512   0.044208   8.591262e-01\n",
      "99        0.000000   0.000000   0.000000   0.000000   2.297071e+00\n",
      "100       0.000000   0.093293   1.960389   0.000000   6.814894e-04\n",
      "101       0.000000   0.000000   2.640274   0.000000   0.000000e+00\n",
      "\n",
      "[101 rows x 5 columns]\n"
     ]
    }
   ],
   "source": [
    "import pandas as pd\n",
    "from sklearn.decomposition import NMF\n",
    "\n",
    "\n",
    "# Membuat NMF Model\n",
    "def create_user_item_profiles(train_matrix, n_components=5):\n",
    "    \"\"\"\n",
    "    Membuat user profile (W) dan item profile (H) menggunakan NMF.\n",
    "    \"\"\"\n",
    "    model = NMF(n_components=n_components, init='random', random_state=42, max_iter=500)\n",
    "    W = model.fit_transform(train_matrix)\n",
    "    H = model.components_\n",
    "    return W, H\n",
    "\n",
    "# Menentukan jumlah komponen\n",
    "n_components = 5\n",
    "\n",
    "# Membuat user profile dan item profile\n",
    "user_profile, item_profile = create_user_item_profiles(train_matrix, n_components=n_components)\n",
    "\n",
    "# Menyimpan user profile ke DataFrame\n",
    "user_profile_df = pd.DataFrame(user_profile,\n",
    "                               index=train_matrix.index,\n",
    "                               columns=[f'feature_{i+1}' for i in range(user_profile.shape[1])])\n",
    "\n",
    "# Menyimpan item profile ke DataFrame\n",
    "item_profile_df = pd.DataFrame(item_profile.T,\n",
    "                               index=train_matrix.columns,\n",
    "                               columns=[f'feature_{i+1}' for i in range(item_profile.shape[0])])\n",
    "\n",
    "# Menampilkan hasil\n",
    "print(\"User Profile:\")\n",
    "print(user_profile_df)\n",
    "\n",
    "print(\"\\nItem Profile:\")\n",
    "print(item_profile_df)\n",
    "\n",
    "# Simpan hasil ke CSV\n",
    "user_profile_df.to_csv(\"user_profile.csv\", index=True)\n",
    "item_profile_df.to_csv(\"item_profile.csv\", index=True)\n"
   ]
  },
  {
   "cell_type": "code",
   "execution_count": 12,
   "id": "00082f40",
   "metadata": {},
   "outputs": [],
   "source": [
    "from tensorflow.keras import layers, models, optimizers\n",
    "from sklearn.metrics import mean_squared_error, mean_absolute_error\n",
    "from sklearn.utils import shuffle\n",
    "import numpy as np\n",
    "\n",
    "# Convert train_matrix to pairs of (user, item, rating)\n",
    "def matrix_to_triplets(matrix):\n",
    "    triplets = []\n",
    "    for i in range(matrix.shape[0]):  # Iterate over users\n",
    "        for j in range(matrix.shape[1]):  # Iterate over items\n",
    "            if matrix[i, j] > 0:  # Include only non-zero ratings\n",
    "                triplets.append((i, j, matrix[i, j]))\n",
    "    return np.array(triplets)\n",
    "\n",
    "# Convert train, val, and test matrices to triplets\n",
    "train_triplets = matrix_to_triplets(train_matrix.values)\n",
    "val_triplets = matrix_to_triplets(val_matrix.values)\n",
    "test_triplets = matrix_to_triplets(test_matrix.values)"
   ]
  },
  {
   "cell_type": "code",
   "execution_count": 13,
   "id": "28880539",
   "metadata": {},
   "outputs": [],
   "source": [
    "# Pastikan tipe data user dan item sebagai integer\n",
    "def prepare_cnn_input(triplets, n_users, n_items):\n",
    "    user_input = triplets[:, 0].astype(int)  # Konversi ke integer\n",
    "    item_input = triplets[:, 1].astype(int)  # Konversi ke integer\n",
    "    ratings = triplets[:, 2]\n",
    "    \n",
    "    # One-hot encode users dan items\n",
    "    user_features = np.eye(n_users)[user_input]\n",
    "    item_features = np.eye(n_items)[item_input]\n",
    "    \n",
    "    # Gabungkan fitur user dan item menjadi satu input\n",
    "    input_features = np.hstack([user_features, item_features])\n",
    "    return input_features, ratings\n",
    "\n",
    "# Tetap gunakan blok utama dari kode sebelumnya\n",
    "n_users, n_items = train_matrix.shape\n",
    "train_X, train_y = prepare_cnn_input(train_triplets, n_users, n_items)\n",
    "val_X, val_y = prepare_cnn_input(val_triplets, n_users, n_items)\n",
    "test_X, test_y = prepare_cnn_input(test_triplets, n_users, n_items)"
   ]
  },
  {
   "cell_type": "code",
   "execution_count": 14,
   "id": "8f215d94",
   "metadata": {},
   "outputs": [
    {
     "name": "stdout",
     "output_type": "stream",
     "text": [
      "Requirement already satisfied: keras-tuner in c:\\users\\user\\anaconda3\\lib\\site-packages (1.4.7)\n",
      "Requirement already satisfied: keras in c:\\users\\user\\anaconda3\\lib\\site-packages (from keras-tuner) (2.10.0)\n",
      "Requirement already satisfied: packaging in c:\\users\\user\\anaconda3\\lib\\site-packages (from keras-tuner) (21.3)\n",
      "Requirement already satisfied: requests in c:\\users\\user\\anaconda3\\lib\\site-packages (from keras-tuner) (2.27.1)\n",
      "Requirement already satisfied: kt-legacy in c:\\users\\user\\anaconda3\\lib\\site-packages (from keras-tuner) (1.0.5)\n",
      "Requirement already satisfied: pyparsing!=3.0.5,>=2.0.2 in c:\\users\\user\\anaconda3\\lib\\site-packages (from packaging->keras-tuner) (3.0.4)\n",
      "Requirement already satisfied: urllib3<1.27,>=1.21.1 in c:\\users\\user\\anaconda3\\lib\\site-packages (from requests->keras-tuner) (1.26.9)\n",
      "Requirement already satisfied: certifi>=2017.4.17 in c:\\users\\user\\anaconda3\\lib\\site-packages (from requests->keras-tuner) (2021.10.8)\n",
      "Requirement already satisfied: charset-normalizer~=2.0.0 in c:\\users\\user\\anaconda3\\lib\\site-packages (from requests->keras-tuner) (2.0.4)\n",
      "Requirement already satisfied: idna<4,>=2.5 in c:\\users\\user\\anaconda3\\lib\\site-packages (from requests->keras-tuner) (3.3)\n",
      "Note: you may need to restart the kernel to use updated packages.\n"
     ]
    },
    {
     "name": "stderr",
     "output_type": "stream",
     "text": [
      "\n",
      "[notice] A new release of pip is available: 24.2 -> 24.3.1\n",
      "[notice] To update, run: python.exe -m pip install --upgrade pip\n"
     ]
    }
   ],
   "source": [
    "# pip install keras-tuner"
   ]
  },
  {
   "cell_type": "code",
   "execution_count": 15,
   "id": "ced22849",
   "metadata": {},
   "outputs": [],
   "source": [
    "import keras_tuner as kt\n",
    "\n",
    "# Definisikan fungsi untuk membuat model dengan hyperparameter\n",
    "def build_model(hp):\n",
    "    model = models.Sequential([\n",
    "        layers.Dense(hp.Int('units_1', min_value=64, max_value=256, step=64),\n",
    "                     activation='relu', input_shape=input_shape),\n",
    "        layers.Dropout(hp.Float('dropout_1', min_value=0.2, max_value=0.5, step=0.1)),\n",
    "        layers.Dense(hp.Int('units_2', min_value=32, max_value=128, step=32),\n",
    "                     activation='relu'),\n",
    "        layers.Dropout(hp.Float('dropout_2', min_value=0.2, max_value=0.5, step=0.1)),\n",
    "        layers.Dense(1, activation='linear')\n",
    "    ])\n",
    "    \n",
    "    model.compile(\n",
    "        optimizer=optimizers.Adam(\n",
    "            learning_rate=hp.Choice('learning_rate', [1e-2, 1e-3, 1e-4])\n",
    "        ),\n",
    "        loss='mse',\n",
    "        metrics=['mae']\n",
    "    )\n",
    "    return model"
   ]
  },
  {
   "cell_type": "code",
   "execution_count": 19,
   "id": "1679487c",
   "metadata": {},
   "outputs": [],
   "source": [
    "def build_model(hp, input_shape):\n",
    "    model = keras.Sequential([\n",
    "        keras.layers.Dense(\n",
    "            hp.Int('units_1', min_value=64, max_value=256, step=64),\n",
    "            activation='relu',\n",
    "            input_shape=input_shape\n",
    "        ),\n",
    "        keras.layers.Dropout(\n",
    "            hp.Float('dropout_1', min_value=0.2, max_value=0.5, step=0.1)\n",
    "        ),\n",
    "        keras.layers.Dense(\n",
    "            hp.Int('units_2', min_value=32, max_value=128, step=32),\n",
    "            activation='relu'\n",
    "        ),\n",
    "        keras.layers.Dropout(\n",
    "            hp.Float('dropout_2', min_value=0.2, max_value=0.5, step=0.1)\n",
    "        ),\n",
    "        keras.layers.Dense(1, activation='linear')\n",
    "    ])\n",
    "    model.compile(\n",
    "        optimizer=keras.optimizers.Adam(\n",
    "            hp.Float('learning_rate', min_value=1e-4, max_value=1e-2, sampling='LOG')\n",
    "        ),\n",
    "        loss='mse',\n",
    "        metrics=['mae']\n",
    "    )\n",
    "    return model\n",
    "\n",
    "input_shape = (train_X.shape[1],)"
   ]
  },
  {
   "cell_type": "code",
   "execution_count": 20,
   "id": "a4263de4",
   "metadata": {},
   "outputs": [
    {
     "name": "stdout",
     "output_type": "stream",
     "text": [
      "Reloading Tuner from hyperparameter_tuning\\recommendation_cnn\\tuner0.json\n"
     ]
    }
   ],
   "source": [
    "tuner = kt.RandomSearch(\n",
    "    lambda hp: build_model(hp, input_shape),\n",
    "    objective='val_loss',\n",
    "    max_trials=10,\n",
    "    executions_per_trial=1,\n",
    "    directory='hyperparameter_tuning',\n",
    "    project_name='recommendation_cnn'\n",
    ")"
   ]
  },
  {
   "cell_type": "code",
   "execution_count": 23,
   "id": "93ba31d9",
   "metadata": {},
   "outputs": [
    {
     "name": "stdout",
     "output_type": "stream",
     "text": [
      "Trial 10 Complete [00h 01m 17s]\n",
      "val_loss: 0.7166847586631775\n",
      "\n",
      "Best val_loss So Far: 0.7166847586631775\n",
      "Total elapsed time: 00h 25m 53s\n"
     ]
    }
   ],
   "source": [
    "tuner.search(train_X, train_y, validation_data=(val_X, val_y), epochs=10, batch_size=32)"
   ]
  },
  {
   "cell_type": "code",
   "execution_count": 24,
   "id": "6cb89e59",
   "metadata": {},
   "outputs": [
    {
     "name": "stdout",
     "output_type": "stream",
     "text": [
      "\n",
      "Hyperparameter terbaik:\n",
      "- Units Layer 1: 128\n",
      "- Dropout Layer 1: 0.30000000000000004\n",
      "- Units Layer 2: 96\n",
      "- Dropout Layer 2: 0.30000000000000004\n",
      "- Learning Rate: 0.0001\n",
      "\n",
      "Epoch 1/20\n",
      "480/480 [==============================] - 11s 18ms/step - loss: 10.2529 - mae: 2.7824 - val_loss: 0.8223 - val_mae: 0.7183\n",
      "Epoch 2/20\n",
      "480/480 [==============================] - 8s 16ms/step - loss: 1.0157 - mae: 0.7699 - val_loss: 0.7270 - val_mae: 0.6707\n",
      "Epoch 3/20\n",
      "480/480 [==============================] - 8s 16ms/step - loss: 0.8955 - mae: 0.7145 - val_loss: 0.7262 - val_mae: 0.6707\n",
      "Epoch 4/20\n",
      "480/480 [==============================] - 7s 16ms/step - loss: 0.8334 - mae: 0.6860 - val_loss: 0.7339 - val_mae: 0.6505\n",
      "Epoch 5/20\n",
      "480/480 [==============================] - 8s 16ms/step - loss: 0.7675 - mae: 0.6574 - val_loss: 0.7558 - val_mae: 0.6449\n",
      "Epoch 6/20\n",
      "480/480 [==============================] - 7s 15ms/step - loss: 0.7322 - mae: 0.6389 - val_loss: 0.7926 - val_mae: 0.6761\n",
      "Epoch 7/20\n",
      "480/480 [==============================] - 7s 15ms/step - loss: 0.6859 - mae: 0.6220 - val_loss: 0.8203 - val_mae: 0.6686\n",
      "Epoch 8/20\n",
      "480/480 [==============================] - 8s 16ms/step - loss: 0.6307 - mae: 0.5958 - val_loss: 0.8630 - val_mae: 0.6874\n",
      "Epoch 9/20\n",
      "480/480 [==============================] - 7s 15ms/step - loss: 0.6130 - mae: 0.5907 - val_loss: 0.9122 - val_mae: 0.7173\n",
      "Epoch 10/20\n",
      "480/480 [==============================] - 7s 16ms/step - loss: 0.5894 - mae: 0.5798 - val_loss: 0.9497 - val_mae: 0.7173\n",
      "Epoch 11/20\n",
      "480/480 [==============================] - 7s 15ms/step - loss: 0.5610 - mae: 0.5686 - val_loss: 0.9826 - val_mae: 0.7155\n",
      "Epoch 12/20\n",
      "480/480 [==============================] - 7s 15ms/step - loss: 0.5574 - mae: 0.5665 - val_loss: 1.0164 - val_mae: 0.7341\n",
      "Epoch 13/20\n",
      "480/480 [==============================] - 7s 15ms/step - loss: 0.5391 - mae: 0.5573 - val_loss: 1.0421 - val_mae: 0.7353\n",
      "Epoch 14/20\n",
      "480/480 [==============================] - 7s 15ms/step - loss: 0.5315 - mae: 0.5560 - val_loss: 1.0679 - val_mae: 0.7558\n",
      "Epoch 15/20\n",
      "480/480 [==============================] - 7s 15ms/step - loss: 0.5136 - mae: 0.5468 - val_loss: 1.0782 - val_mae: 0.7460\n",
      "Epoch 16/20\n",
      "480/480 [==============================] - 7s 15ms/step - loss: 0.5006 - mae: 0.5384 - val_loss: 1.1043 - val_mae: 0.7688\n",
      "Epoch 17/20\n",
      "480/480 [==============================] - 7s 15ms/step - loss: 0.4903 - mae: 0.5331 - val_loss: 1.1135 - val_mae: 0.7575\n",
      "Epoch 18/20\n",
      "480/480 [==============================] - 7s 15ms/step - loss: 0.4782 - mae: 0.5283 - val_loss: 1.1239 - val_mae: 0.7628\n",
      "Epoch 19/20\n",
      "480/480 [==============================] - 7s 15ms/step - loss: 0.4773 - mae: 0.5290 - val_loss: 1.1299 - val_mae: 0.7693\n",
      "Epoch 20/20\n",
      "480/480 [==============================] - 7s 15ms/step - loss: 0.4740 - mae: 0.5267 - val_loss: 1.1283 - val_mae: 0.7616\n"
     ]
    }
   ],
   "source": [
    "# Dapatkan model dengan hyperparameter terbaik\n",
    "best_hps = tuner.get_best_hyperparameters(num_trials=1)[0]\n",
    "print(f\"\"\"\n",
    "Hyperparameter terbaik:\n",
    "- Units Layer 1: {best_hps.get('units_1')}\n",
    "- Dropout Layer 1: {best_hps.get('dropout_1')}\n",
    "- Units Layer 2: {best_hps.get('units_2')}\n",
    "- Dropout Layer 2: {best_hps.get('dropout_2')}\n",
    "- Learning Rate: {best_hps.get('learning_rate')}\n",
    "\"\"\")\n",
    "\n",
    "# Latih model dengan hyperparameter terbaik\n",
    "model = tuner.hypermodel.build(best_hps)\n",
    "history = model.fit(\n",
    "    train_X, train_y,\n",
    "    validation_data=(val_X, val_y),\n",
    "    epochs=20, batch_size=32, verbose=1\n",
    ")"
   ]
  },
  {
   "cell_type": "code",
   "execution_count": 64,
   "id": "197ff58e",
   "metadata": {},
   "outputs": [
    {
     "data": {
      "image/png": "[encoded data removed]",
      "text/plain": [
       "<Figure size 864x432 with 1 Axes>"
      ]
     },
     "metadata": {
      "needs_background": "light"
     },
     "output_type": "display_data"
    }
   ],
   "source": [
    "import matplotlib.pyplot as plt\n",
    "\n",
    "# Set ukuran gambar menjadi lebih lebar\n",
    "plt.figure(figsize=(12, 6))\n",
    "\n",
    "plt.plot(\n",
    "    history.history['loss'], \n",
    "    label='Training Loss', \n",
    "    linestyle='-', \n",
    "    marker='*', \n",
    "    color='blue'\n",
    ")\n",
    "\n",
    "# Plot validation loss dengan pola garis putus-putus dan bintang\n",
    "plt.plot(\n",
    "    history.history['val_loss'], \n",
    "    label='Validation Loss', \n",
    "    linestyle='--', \n",
    "    marker='*', \n",
    "    color='orange'\n",
    ")\n",
    "\n",
    "# Label untuk sumbu x dan y\n",
    "plt.xlabel('Epochs')\n",
    "plt.ylabel('Loss')\n",
    "\n",
    "# Menambahkan judul dan legenda\n",
    "plt.title('Training vs Validation Loss')\n",
    "plt.legend()\n",
    "\n",
    "# Menampilkan grafik\n",
    "plt.show()"
   ]
  },
  {
   "cell_type": "code",
   "execution_count": 33,
   "id": "da3e8a04",
   "metadata": {},
   "outputs": [
    {
     "name": "stdout",
     "output_type": "stream",
     "text": [
      "104/104 [==============================] - 1s 6ms/step\n",
      "Evaluasi Model:\n",
      "RMSE: 1.0672\n",
      "MAE: 0.7594\n"
     ]
    }
   ],
   "source": [
    "from sklearn.metrics import mean_squared_error, mean_absolute_error\n",
    "import numpy as np\n",
    "\n",
    "# Evaluasi RMSE dan MAE\n",
    "predicted_ratings = model.predict(test_X).flatten()\n",
    "\n",
    "# Jika target test_y dinormalisasi, denormalisasi terlebih dahulu (opsional)\n",
    "# test_y = scaler.inverse_transform(test_y)  # Uncomment jika diperlukan\n",
    "# predicted_ratings = scaler.inverse_transform(predicted_ratings.reshape(-1, 1)).flatten()  # Uncomment jika diperlukan\n",
    "\n",
    "# Hitung RMSE dan MAE\n",
    "rmse = np.sqrt(mean_squared_error(test_y, predicted_ratings))\n",
    "mae = mean_absolute_error(test_y, predicted_ratings)\n",
    "\n",
    "print(\"Evaluasi Model:\")\n",
    "print(f\"RMSE: {rmse:.4f}\")\n",
    "print(f\"MAE: {mae:.4f}\")"
   ]
  },
  {
   "cell_type": "code",
   "execution_count": 35,
   "id": "605d920f",
   "metadata": {},
   "outputs": [
    {
     "name": "stdout",
     "output_type": "stream",
     "text": [
      "Precision@5: 1.0000, Recall@5: 0.0015, MAP@5: 1.0000\n",
      "Precision@10: 1.0000, Recall@10: 0.0030, MAP@10: 1.0000\n"
     ]
    }
   ],
   "source": [
    "# Precision, Recall, MAP@K\n",
    "def precision_recall_at_k(predictions, true_ratings, k=5):\n",
    "    sorted_indices = np.argsort(predictions)[::-1]  # Sort predictions in descending order\n",
    "    top_k_indices = sorted_indices[:k]\n",
    "    relevant = np.isin(top_k_indices, np.where(true_ratings > 0)[0])\n",
    "    precision = np.sum(relevant) / k\n",
    "    recall = np.sum(relevant) / np.sum(true_ratings > 0)\n",
    "    return precision, recall\n",
    "\n",
    "def mean_average_precision_at_k(predictions, true_ratings, k=5):\n",
    "    sorted_indices = np.argsort(predictions)[::-1]  # Sort predictions in descending order\n",
    "    top_k_indices = sorted_indices[:k]\n",
    "    ap = 0\n",
    "    num_relevant = 0\n",
    "    for i, idx in enumerate(top_k_indices):\n",
    "        if true_ratings[idx] > 0:\n",
    "            num_relevant += 1\n",
    "            ap += num_relevant / (i + 1)\n",
    "    return ap / min(k, np.sum(true_ratings > 0))\n",
    "\n",
    "precision_5, recall_5 = precision_recall_at_k(predicted_ratings, test_y, k=5)\n",
    "precision_10, recall_10 = precision_recall_at_k(predicted_ratings, test_y, k=10)\n",
    "map_5 = mean_average_precision_at_k(predicted_ratings, test_y, k=5)\n",
    "map_10 = mean_average_precision_at_k(predicted_ratings, test_y, k=10)\n",
    "\n",
    "print(f\"Precision@5: {precision_5:.4f}, Recall@5: {recall_5:.4f}, MAP@5: {map_5:.4f}\")\n",
    "print(f\"Precision@10: {precision_10:.4f}, Recall@10: {recall_10:.4f}, MAP@10: {map_10:.4f}\")"
   ]
  },
  {
   "cell_type": "code",
   "execution_count": 36,
   "id": "88f3ef0f",
   "metadata": {},
   "outputs": [
    {
     "data": {
      "image/png": "[encoded data removed]",
      "text/plain": [
       "<Figure size 576x360 with 1 Axes>"
      ]
     },
     "metadata": {
      "needs_background": "light"
     },
     "output_type": "display_data"
    }
   ],
   "source": [
    "import matplotlib.pyplot as plt\n",
    "import numpy as np\n",
    "\n",
    "# Simpan nilai RMSE dan MAE yang sudah dihitung\n",
    "metrics = {'RMSE': rmse, 'MAE': mae}\n",
    "\n",
    "# Visualisasi menggunakan diagram batang\n",
    "plt.figure(figsize=(8, 5))\n",
    "plt.bar(metrics.keys(), metrics.values(), color=['skyblue', 'salmon'], alpha=0.8, edgecolor='black')\n",
    "\n",
    "# Tambahkan nilai di atas batang\n",
    "for i, (metric, value) in enumerate(metrics.items()):\n",
    "    plt.text(i, value + 0.01, f'{value:.4f}', ha='center', fontsize=12, fontweight='bold')\n",
    "\n",
    "# Tambahkan detail pada plot\n",
    "plt.title('RMSE dan MAE Model CNN', fontsize=16, fontweight='bold')\n",
    "plt.ylabel('Error', fontsize=14)\n",
    "plt.xticks(fontsize=12)\n",
    "plt.yticks(fontsize=12)\n",
    "plt.ylim(0, max(metrics.values()) + 0.5)\n",
    "\n",
    "# Tampilkan diagram batang\n",
    "plt.grid(axis='y', linestyle='--', alpha=0.7)\n",
    "plt.tight_layout()\n",
    "plt.show()\n"
   ]
  },
  {
   "cell_type": "code",
   "execution_count": 65,
   "id": "00daede5",
   "metadata": {},
   "outputs": [
    {
     "data": {
      "image/png": "[encoded data removed]",
      "text/plain": [
       "<Figure size 720x432 with 1 Axes>"
      ]
     },
     "metadata": {
      "needs_background": "light"
     },
     "output_type": "display_data"
    }
   ],
   "source": [
    "import matplotlib.pyplot as plt\n",
    "import numpy as np\n",
    "\n",
    "# Simpan nilai Precision, Recall, dan MAP untuk k@5 dan k@10\n",
    "metrics = {\n",
    "    'Precision@5': 1.0000,\n",
    "    'Recall@5': 0.0015,\n",
    "    'MAP@5': 1.0000,\n",
    "    'Precision@10': 1.0000,\n",
    "    'Recall@10': 0.0030,\n",
    "    'MAP@10': 1.0000\n",
    "}\n",
    "\n",
    "# Visualisasi menggunakan diagram batang\n",
    "plt.figure(figsize=(10, 6))\n",
    "plt.bar(metrics.keys(), metrics.values(), color=['blue', 'orange', 'green', 'blue', 'orange', 'green'], alpha=0.8, edgecolor='black')\n",
    "\n",
    "# Tambahkan nilai di atas batang\n",
    "for i, (metric, value) in enumerate(metrics.items()):\n",
    "    plt.text(i, value + 0.01, f'{value:.4f}', ha='center', fontsize=12, fontweight='bold')\n",
    "\n",
    "# Tambahkan detail pada plot\n",
    "plt.title('Precision, Recall, and MAP for k@5 and k@10 Model CNN', fontsize=16, fontweight='bold')\n",
    "plt.ylabel('Metric Value', fontsize=14)\n",
    "plt.xticks(fontsize=12)\n",
    "plt.yticks(fontsize=12)\n",
    "plt.ylim(0, max(metrics.values()) + 0.2)\n",
    "\n",
    "# Tampilkan diagram batang\n",
    "plt.grid(axis='y', linestyle='--', alpha=0.7)\n",
    "plt.tight_layout()\n",
    "plt.show()"
   ]
  },
  {
   "cell_type": "code",
   "execution_count": 62,
   "id": "ff60f941",
   "metadata": {},
   "outputs": [],
   "source": [
    "# import pandas as pd\n",
    "\n",
    "# def get_top_n_recommendations_table(predictions, user_id, n=5):\n",
    "#     \"\"\"\n",
    "#     Mengembalikan top-N rekomendasi dalam bentuk tabel.\n",
    "    \n",
    "#     Parameters:\n",
    "#     - predictions: List prediksi dari Surprise\n",
    "#     - user_id: ID user yang ingin ditampilkan rekomendasinya\n",
    "#     - n: Jumlah rekomendasi yang diinginkan (default: 5)\n",
    "    \n",
    "#     Returns:\n",
    "#     - DataFrame berisi item_id, nama tempat wisata, dan prediksi rating\n",
    "#     \"\"\"\n",
    "#     # Filter prediksi untuk user tertentu\n",
    "#     user_predictions = [pred for pred in predictions if pred.uid == user_id]\n",
    "    \n",
    "#     # Urutkan berdasarkan rating prediksi (descending)\n",
    "#     user_predictions.sort(key=lambda x: x.est, reverse=True)\n",
    "    \n",
    "#     # Ambil top-N rekomendasi\n",
    "#     top_n = user_predictions[:n]\n",
    "    \n",
    "#     # Format data untuk DataFrame\n",
    "#     top_n_data = []\n",
    "#     for pred in top_n:\n",
    "#         place_name = data[data['item_id'] == pred.iid]['Nama_tempat_wisata'].iloc[0]\n",
    "#         top_n_data.append({'Place ID': pred.iid, 'Nama Tempat Wisata': place_name, 'Predicted Rating': pred.est})\n",
    "    \n",
    "#     # Konversi ke DataFrame\n",
    "#     return pd.DataFrame(top_n_data)\n",
    "\n",
    "# # Pilih user_id untuk melihat rekomendasi\n",
    "# user_id = '1.08733e+20'  # Ganti dengan ID user yang diinginkan\n",
    "\n",
    "# # Dapatkan daftar semua item di dataset\n",
    "# all_items = set(data['item_id'].unique())\n",
    "\n",
    "# # Cari item yang belum di-rating oleh user\n",
    "# rated_items = set(data[data['user_id'] == user_id]['item_id'])\n",
    "# unrated_items = all_items - rated_items\n",
    "\n",
    "# # Buat testset untuk user dengan semua item yang belum di-rating\n",
    "# user_testset = [(user_id, item_id, 0) for item_id in unrated_items]\n",
    "\n",
    "# # Prediksi untuk semua item di testset\n",
    "# user_predictions = model.test(user_testset)\n",
    "\n",
    "# # Dapatkan top 5 rekomendasi dalam bentuk tabel\n",
    "# top_5_recommendations_table = get_top_n_recommendations_table(user_predictions, user_id, n=5)\n",
    "\n",
    "# # Tampilkan tabel\n",
    "# print(\"Top 5 rekomendasi untuk User {}:\".format(user_id))\n",
    "# print(top_5_recommendations_table)"
   ]
  },
  {
   "cell_type": "code",
   "execution_count": null,
   "id": "ad540941",
   "metadata": {},
   "outputs": [],
   "source": []
  }
 ],
 "metadata": {
  "kernelspec": {
   "display_name": "Python 3 (ipykernel)",
   "language": "python",
   "name": "python3"
  },
  "language_info": {
   "codemirror_mode": {
    "name": "ipython",
    "version": 3
   },
   "file_extension": ".py",
   "mimetype": "text/x-python",
   "name": "python",
   "nbconvert_exporter": "python",
   "pygments_lexer": "ipython3",
   "version": "3.9.12"
  }
 },
 "nbformat": 4,
 "nbformat_minor": 5
}
